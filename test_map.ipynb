{
 "cells": [
  {
   "cell_type": "code",
   "execution_count": 1,
   "metadata": {},
   "outputs": [],
   "source": [
    "import geopandas as gpd\n",
    "import  ipyleaflet\n",
    "import numpy as np\n",
    "import matplotlib.pyplot as plt\n",
    "from geopy.geocoders import Nominatim\n",
    "import pickle"
   ]
  },
  {
   "cell_type": "code",
   "execution_count": 2,
   "metadata": {},
   "outputs": [],
   "source": [
    "import  folium "
   ]
  },
  {
   "cell_type": "code",
   "execution_count": 3,
   "metadata": {},
   "outputs": [],
   "source": [
    "f = open('bar_di_roma.pkl','rb')\n",
    "bar_di_roma = pickle.load(f)"
   ]
  },
  {
   "cell_type": "code",
   "execution_count": 4,
   "metadata": {},
   "outputs": [],
   "source": [
    "f.close()"
   ]
  },
  {
   "cell_type": "code",
   "execution_count": 5,
   "metadata": {},
   "outputs": [
    {
     "data": {
      "text/plain": [
       "{'L’Antica Ciriola ': [],\n",
       " 'Canova Tadolini, via del babuino 150 ': Point(41.9077935, 12.4795384, 0.0),\n",
       " 'Chiostro del Bramante, Arco della Pace ': Point(41.9001651, 12.4715564, 0.0),\n",
       " 'Il Gianfornaio ': Point(41.9289961, 12.4857767, 0.0),\n",
       " 'Via Gregorio VII': Point(41.8947333, 12.4296912, 0.0),\n",
       " 'Biffi ': Point(41.8667325, 12.490325, 0.0),\n",
       " 'Faro ': Point(41.9102507, 12.4983822, 0.0),\n",
       " 'Regoli ': Point(41.8948154, 12.5009269, 0.0),\n",
       " 'Cristalli di Zucchero ': Point(41.8693631, 12.446614, 0.0),\n",
       " 'Le Levain ': Point(41.8871605, 12.4686423, 0.0),\n",
       " 'Gruè ': Point(41.7958778, 12.2419059, 0.0),\n",
       " 'Mizzica ': Point(41.9123654, 12.5179137, 0.0),\n",
       " 'Babington ,Piazza di Spagna,': [],\n",
       " 'Abate ': Point(41.8970926, 12.50049450209608, 0.0),\n",
       " 'Bakery house ': Point(41.9234823, 12.5132586, 0.0),\n",
       " 'Rosti ': Point(41.8888294, 12.529261668871825, 0.0),\n",
       " 'Vanni ': Point(41.917378, 12.4645982, 0.0),\n",
       " 'Antonini Roma ': Point(41.89209715, 12.486649054232455, 0.0),\n",
       " 'Romoli ': Point(41.9286765, 12.5162194, 0.0),\n",
       " 'La buvette ': Point(41.9070552, 12.4800685, 0.0),\n",
       " 'Favole di pane, via Tiburtina,': [],\n",
       " 'Il dondolo ': [],\n",
       " 'Hiromi Cake ': [],\n",
       " 'Via del serafico 167': Point(41.830683, 12.4907714, 0.0),\n",
       " 'Marigold ,Via Giovanni da Empoli 37, Roma,': Point(41.873389, 12.4792214, 0.0),\n",
       " 'Hotel Eden ': Point(41.9065412, 12.4863085, 0.0),\n",
       " 'Bompiani ': Point(41.8591453, 12.5019047, 0.0),\n",
       " 'Roscioli ': Point(41.8955136, 12.5070146, 0.0),\n",
       " 'Tornatora Tuscolana ': Point(41.863733, 12.5476596, 0.0),\n",
       " 'Il Tornatora ': Point(41.8538357, 12.4806095, 0.0),\n",
       " 'Vintro bar & bites ': Point(41.9460046, 12.5299783, 0.0),\n",
       " 'Maat Bakery & Bistrot ,Via Sestio Calvino 20/2 ': [],\n",
       " 'Belle Hélène, Via Giuseppe Garibaldi 12 ,Tarquinia': [],\n",
       " \"Pasticceria D'Antoni, Via Dino Penazzato \": [],\n",
       " 'Corsetti ': Point(41.8639294, 12.4656124, 0.0),\n",
       " 'Wani ': Point(41.8520997, 12.4785552, 0.0),\n",
       " 'Faggiani ': Point(41.9142107, 12.4642335, 0.0),\n",
       " 'Caffè Tornatora Roma ': Point(41.934323, 12.4414141, 0.0),\n",
       " 'Il Maritozzaro ': Point(41.873237, 12.4672739, 0.0),\n",
       " 'La gatta ghiotta ': [],\n",
       " 'Gran Caffè Dei Colli , Viale dei colli portuensi 518,': [],\n",
       " 'Krapfen Paglia ': Point(41.730119, 12.2785272, 0.0),\n",
       " 'Bar Casoria ,Viale Antonio Ciamarra 59': [],\n",
       " 'Benaco ': Point(41.9238663, 12.5060761, 0.0),\n",
       " 'Casa Manfredi ': Point(41.9617952, 12.4461446, 0.0),\n",
       " 'Duranti ': Point(41.7768612, 12.4366259, 0.0),\n",
       " 'Taki Matcha Caffè Via Marianna Dionigi 62': [],\n",
       " 'Pasticceria Valentini ': [],\n",
       " 'Pasticceria L’arte del dolce ': [],\n",
       " 'Bar Tornatora ': Point(41.9148176, 12.4145682, 0.0),\n",
       " 'Bar Mazzaroni ': Point(41.8491827, 12.4587089, 0.0),\n",
       " 'Pasticceria Cecere ': Point(41.8819368, 12.4692321, 0.0),\n",
       " 'Homebaked , Porta Cavalleggeri': [],\n",
       " 'Via di Monserrato 46': Point(41.8964759, 12.4690343, 0.0),\n",
       " 'Il Pangocciolaio ': Point(41.8718894, 12.4793905, 0.0),\n",
       " 'Le Carré Français ': Point(41.9050545, 12.4718403, 0.0),\n",
       " 'Charlotte ': Point(41.833557299999995, 12.888043532607345, 0.0),\n",
       " 'Bar Pasticceria Pino ': [],\n",
       " 'Ruschena ': Point(41.9051441, 12.473242, 0.0),\n",
       " 'Castroni ': Point(41.9037546, 12.4796897, 0.0),\n",
       " \"Sant'Eustachio Il Caffè\": Point(41.898244, 12.4753209, 0.0),\n",
       " \"'Na Tazzulella 'e cafè, Viale dell'Aeronautica 57,\": [],\n",
       " 'Bar degli Estensi': [],\n",
       " 'Gran Caffè Hawaii, Via di Tor Pignattara 43 ': [],\n",
       " 'Chiostro del Bramante ': Point(41.9001651, 12.4715564, 0.0),\n",
       " 'piazza di Spagna 23': Point(41.9060613, 12.4823225, 0.0),\n",
       " 'Via Giovanni da Empoli 37, Roma,': Point(41.873389, 12.4792214, 0.0),\n",
       " 'Via Sestio Calvino 20/2 ': Point(41.850929, 12.5617924, 0.0),\n",
       " ' Via Giuseppe Garibaldi 12 ,Tarquinia': [],\n",
       " ' Via Dino Penazzato ': Point(41.8977094, 12.5648754, 0.0),\n",
       " ' Viale dei colli portuensi 518,': Point(41.8628357, 12.4434529, 0.0),\n",
       " 'Viale Antonio Ciamarra 59': Point(41.8490657, 12.5905588, 0.0),\n",
       " ' Via Marianna Dionigi 62': Point(41.9059556, 12.4707397, 0.0),\n",
       " 'Porta Cavalleggeri': Point(41.9003878, 12.4563027, 0.0),\n",
       " 'Bar Perù ,Via di Monserrato 46': [],\n",
       " \" Viale dell'Aeronautica 57,\": Point(41.8262663, 12.4780266, 0.0),\n",
       " 'Via di Tor Pignattara 43': Point(41.8751127, 12.5413445, 0.0)}"
      ]
     },
     "execution_count": 5,
     "metadata": {},
     "output_type": "execute_result"
    }
   ],
   "source": [
    "bar_di_roma"
   ]
  },
  {
   "cell_type": "markdown",
   "metadata": {},
   "source": [
    "# map"
   ]
  },
  {
   "cell_type": "code",
   "execution_count": 11,
   "metadata": {},
   "outputs": [],
   "source": [
    "from ipyleaflet import Map, Marker , Icon , AwesomeIcon"
   ]
  },
  {
   "cell_type": "code",
   "execution_count": 12,
   "metadata": {},
   "outputs": [],
   "source": [
    "ROMA = (41.8919300,12.5113300)"
   ]
  },
  {
   "cell_type": "code",
   "execution_count": null,
   "metadata": {},
   "outputs": [],
   "source": []
  },
  {
   "cell_type": "code",
   "execution_count": 13,
   "metadata": {},
   "outputs": [],
   "source": [
    "m = Map(center= ROMA, zoom=10)"
   ]
  },
  {
   "cell_type": "code",
   "execution_count": 9,
   "metadata": {},
   "outputs": [
    {
     "data": {
      "application/vnd.jupyter.widget-view+json": {
       "model_id": "06477db42bf44f0eb9e567cbe489624b",
       "version_major": 2,
       "version_minor": 0
      },
      "text/plain": [
       "Map(center=[41.89193, 12.51133], controls=(ZoomControl(options=['position', 'zoom_in_text', 'zoom_in_title', '…"
      ]
     },
     "metadata": {},
     "output_type": "display_data"
    }
   ],
   "source": [
    "m"
   ]
  },
  {
   "cell_type": "code",
   "execution_count": 16,
   "metadata": {},
   "outputs": [],
   "source": [
    "icon = Icon(icon_url = 'https://fontawesome.com/icons/dog?style=solid', icon_size=[10, 20])#, icon_anchor=[22,94])"
   ]
  },
  {
   "cell_type": "code",
   "execution_count": 22,
   "metadata": {},
   "outputs": [],
   "source": [
    "icon = AwesomeIcon(\n",
    "    name='dog',\n",
    "    marker_color='red',\n",
    "    icon_color='black',\n",
    "    spin=False\n",
    ")"
   ]
  },
  {
   "cell_type": "code",
   "execution_count": 23,
   "metadata": {},
   "outputs": [],
   "source": [
    "m = Map(center= ROMA, zoom=10)\n",
    "for b in bar_di_roma.keys():\n",
    "    if bar_di_roma[b]:\n",
    "        marker = Marker(location=(bar_di_roma[b].latitude,bar_di_roma[b].longitude), \n",
    "                        draggable=False,\n",
    "                        icon = icon,\n",
    "                       title = b)\n",
    "        m.add_layer(marker);\n",
    "        #folium.Marker((bar_di_roma[b].latitude,bar_di_roma[b].longitude),\n",
    "        #              icon = folium.Icon(color = 'red' , icon = 'star'),\n",
    "        #              popup = b).add_to(m)"
   ]
  },
  {
   "cell_type": "code",
   "execution_count": 24,
   "metadata": {},
   "outputs": [
    {
     "data": {
      "application/vnd.jupyter.widget-view+json": {
       "model_id": "fee789e9ad6d4c8cad0396842d30ce1b",
       "version_major": 2,
       "version_minor": 0
      },
      "text/plain": [
       "Map(center=[41.89193, 12.51133], controls=(ZoomControl(options=['position', 'zoom_in_text', 'zoom_in_title', '…"
      ]
     },
     "metadata": {},
     "output_type": "display_data"
    }
   ],
   "source": [
    "m"
   ]
  },
  {
   "cell_type": "code",
   "execution_count": 13,
   "metadata": {},
   "outputs": [],
   "source": [
    "from ipyleaflet import Map, basemaps, basemap_to_tiles"
   ]
  },
  {
   "cell_type": "code",
   "execution_count": 29,
   "metadata": {},
   "outputs": [],
   "source": [
    "m = Map(\n",
    "    basemap=basemap_to_tiles(basemaps.NASAGIBS.ModisTerraTrueColorCR, \"2020-01-05\"),\n",
    "    center=ROMA,\n",
    "    zoom=5\n",
    ")"
   ]
  },
  {
   "cell_type": "code",
   "execution_count": 30,
   "metadata": {},
   "outputs": [
    {
     "data": {
      "application/vnd.jupyter.widget-view+json": {
       "model_id": "e3202c7f1b5b48c88f4eecf3ffea5966",
       "version_major": 2,
       "version_minor": 0
      },
      "text/plain": [
       "Map(center=[41.89193, 12.51133], controls=(ZoomControl(options=['position', 'zoom_in_text', 'zoom_in_title', '…"
      ]
     },
     "metadata": {},
     "output_type": "display_data"
    }
   ],
   "source": [
    "m"
   ]
  },
  {
   "cell_type": "code",
   "execution_count": 41,
   "metadata": {},
   "outputs": [],
   "source": [
    "BERLIN = 52.52437, 13.41053"
   ]
  },
  {
   "cell_type": "code",
   "execution_count": 47,
   "metadata": {},
   "outputs": [
    {
     "data": {
      "application/vnd.jupyter.widget-view+json": {
       "model_id": "4a932cdac6c544678429c72af35cdf8d",
       "version_major": 2,
       "version_minor": 0
      },
      "text/plain": [
       "Map(center=[52.52437, 13.41053], controls=(ZoomControl(options=['position', 'zoom_in_text', 'zoom_in_title', '…"
      ]
     },
     "metadata": {},
     "output_type": "display_data"
    }
   ],
   "source": [
    "m = Map(\n",
    "    basemap=basemap_to_tiles(basemaps.NASAGIBS.ModisTerraTrueColorCR, \"2021-02-11\"),\n",
    "    center=BERLIN,\n",
    "    zoom=9\n",
    ")\n",
    "m"
   ]
  },
  {
   "cell_type": "code",
   "execution_count": null,
   "metadata": {},
   "outputs": [],
   "source": []
  }
 ],
 "metadata": {
  "kernelspec": {
   "display_name": "Python 3",
   "language": "python",
   "name": "python3"
  },
  "language_info": {
   "codemirror_mode": {
    "name": "ipython",
    "version": 3
   },
   "file_extension": ".py",
   "mimetype": "text/x-python",
   "name": "python",
   "nbconvert_exporter": "python",
   "pygments_lexer": "ipython3",
   "version": "3.8.2"
  }
 },
 "nbformat": 4,
 "nbformat_minor": 4
}
