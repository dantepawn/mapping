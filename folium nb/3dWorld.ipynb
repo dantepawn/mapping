{
 "cells": [
  {
   "cell_type": "code",
   "execution_count": 6,
   "metadata": {},
   "outputs": [],
   "source": [
    "import folium"
   ]
  },
  {
   "cell_type": "code",
   "execution_count": 7,
   "metadata": {},
   "outputs": [],
   "source": [
    "from folium.features import Template\n",
    "\n",
    "class Map3d(folium.Map):\n",
    "    def __init__(self, location=None, width='100%', height='100%', left='0%',\n",
    "                 top='0%', position='relative', tiles='OpenStreetMap', API_key=None,\n",
    "                 max_zoom=18, min_zoom=1, zoom_start=10, attr=None, min_lat=-90,\n",
    "                 max_lat=90, min_lon=-180, max_lon=180, detect_retina=False, crs='EPSG3857'):\n",
    "        super(Map3d, self).__init__(location=location, width=width, height=height,\n",
    "                                    left=left, top=top, position=position, tiles=tiles,\n",
    "                                    API_key=API_key, max_zoom=max_zoom, min_zoom=min_zoom,\n",
    "                                    zoom_start=zoom_start, attr=attr, min_lat=min_lat,\n",
    "                                    max_lat=max_lat, min_lon=min_lon, max_lon=max_lon,\n",
    "                                    detect_retina=detect_retina, crs=crs)\n",
    "        self._template = Template(u\"\"\"\n",
    "        {% macro header(this, kwargs) %}\n",
    "            <script src=\"https://www.webglearth.com/v2/api.js\"></script>\n",
    "            <style> #{{this.get_name()}} {\n",
    "                position : {{this.position}};\n",
    "                width : {{this.width[0]}}{{this.width[1]}};\n",
    "                height: {{this.height[0]}}{{this.height[1]}};\n",
    "                left: {{this.left[0]}}{{this.left[1]}};\n",
    "                top: {{this.top[0]}}{{this.top[1]}};\n",
    "                }\n",
    "            </style>\n",
    "        {% endmacro %}\n",
    "        {% macro html(this, kwargs) %}\n",
    "            <div class=\"folium-map\" id=\"{{this.get_name()}}\" ></div>\n",
    "        {% endmacro %}\n",
    "\n",
    "        {% macro script(this, kwargs) %}\n",
    "\n",
    "            var southWest = L.latLng({{ this.min_lat }}, {{ this.min_lon }});\n",
    "            var northEast = L.latLng({{ this.max_lat }}, {{ this.max_lon }});\n",
    "            var bounds = L.latLngBounds(southWest, northEast);\n",
    "\n",
    "            var {{this.get_name()}} = WE.map('{{this.get_name()}}', {\n",
    "                                           center:[{{this.location[0]}},{{this.location[1]}}],\n",
    "                                           zoom: {{this.zoom_start}},\n",
    "                                           maxBounds: bounds,\n",
    "                                           layers: [],\n",
    "                                           crs: L.CRS.{{this.crs}}\n",
    "                                         });\n",
    "        {% endmacro %}\n",
    "        \"\"\")\n",
    "\n",
    "\n",
    "class TileLayer3d(folium.TileLayer):\n",
    "    def __init__(self, tiles='OpenStreetMap', min_zoom=1, max_zoom=18, attr=None,\n",
    "                 API_key=None, detect_retina=False, name=None, overlay=False, control=True):\n",
    "        super(TileLayer3d, self).__init__(tiles=tiles,\n",
    "            min_zoom=min_zoom, max_zoom=max_zoom, attr=attr,\n",
    "            API_key=API_key, detect_retina=detect_retina, name=name,\n",
    "            overlay=overlay, control=control)\n",
    "        self._template = Template(u\"\"\"\n",
    "        {% macro script(this, kwargs) %}\n",
    "            var {{this.get_name()}} = WE.tileLayer(\n",
    "                '{{this.tiles}}',\n",
    "                {\n",
    "                    maxZoom: {{this.max_zoom}},\n",
    "                    minZoom: {{this.min_zoom}},\n",
    "                    attribution: '{{this.attr}}',\n",
    "                    detectRetina: {{this.detect_retina.__str__().lower()}}\n",
    "                    }\n",
    "                ).addTo({{this._parent.get_name()}});\n",
    "\n",
    "        {% endmacro %}\n",
    "        \"\"\")\n",
    "        "
   ]
  },
  {
   "cell_type": "code",
   "execution_count": 8,
   "metadata": {},
   "outputs": [
    {
     "data": {
      "text/html": [
       "<div style=\"width:100%;\"><div style=\"position:relative;width:100%;height:0;padding-bottom:60%;\"><iframe src=\"about:blank\" style=\"position:absolute;width:100%;height:100%;left:0;top:0;border:none !important;\" data-html=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 onload=\"this.contentDocument.open();this.contentDocument.write(atob(this.getAttribute('data-html')));this.contentDocument.close();\" allowfullscreen webkitallowfullscreen mozallowfullscreen></iframe></div></div>"
      ],
      "text/plain": [
       "<__main__.Map3d at 0x23ad29674f0>"
      ]
     },
     "execution_count": 8,
     "metadata": {},
     "output_type": "execute_result"
    }
   ],
   "source": [
    "mapa = Map3d(location=[-42, -42], tiles=None, zoom_start=2)\n",
    "mapa.add_child(TileLayer3d(tiles='OpenStreetMap'))\n",
    "\n",
    "url = ('http://services.arcgisonline.com/arcgis/rest/services'\n",
    "       'Ocean/World_Ocean_Base'\n",
    "       'MapServer/tile/{z}/{y}/{x}')\n",
    "\n",
    "folium.TileLayer(tiles=url,\n",
    "                 name='World_Ocean_Base',\n",
    "                 attr='ESRI',\n",
    "                 overlay=True).add_to(mapa)\n",
    "\n",
    "folium.LayerControl().add_to(mapa)\n",
    "\n",
    "mapa"
   ]
  },
  {
   "cell_type": "code",
   "execution_count": 4,
   "metadata": {},
   "outputs": [
    {
     "data": {
      "text/html": [
       "<div style=\"width:100%;\"><div style=\"position:relative;width:100%;height:0;padding-bottom:60%;\"><iframe src=\"about:blank\" style=\"position:absolute;width:100%;height:100%;left:0;top:0;border:none !important;\" data-html=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 onload=\"this.contentDocument.open();this.contentDocument.write(atob(this.getAttribute('data-html')));this.contentDocument.close();\" allowfullscreen webkitallowfullscreen mozallowfullscreen></iframe></div></div>"
      ],
      "text/plain": [
       "<__main__.Map3d at 0x23ad2936ee0>"
      ]
     },
     "execution_count": 4,
     "metadata": {},
     "output_type": "execute_result"
    }
   ],
   "source": []
  },
  {
   "cell_type": "code",
   "execution_count": null,
   "metadata": {},
   "outputs": [],
   "source": []
  }
 ],
 "metadata": {
  "kernelspec": {
   "display_name": "Python 3",
   "language": "python",
   "name": "python3"
  },
  "language_info": {
   "codemirror_mode": {
    "name": "ipython",
    "version": 3
   },
   "file_extension": ".py",
   "mimetype": "text/x-python",
   "name": "python",
   "nbconvert_exporter": "python",
   "pygments_lexer": "ipython3",
   "version": "3.8.2"
  }
 },
 "nbformat": 4,
 "nbformat_minor": 4
}
