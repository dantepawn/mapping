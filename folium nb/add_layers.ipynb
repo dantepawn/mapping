{
 "cells": [
  {
   "cell_type": "code",
   "execution_count": 1,
   "metadata": {},
   "outputs": [
    {
     "name": "stdout",
     "output_type": "stream",
     "text": [
      "C:\\Users\\daeil\\anaconda3\\envs\\data\\lib\\site-packages\\folium\\__init__.py\n",
      "0.11.0\n"
     ]
    }
   ],
   "source": [
    "import folium\n",
    "\n",
    "print(folium.__file__)\n",
    "print(folium.__version__)"
   ]
  },
  {
   "cell_type": "code",
   "execution_count": 3,
   "metadata": {},
   "outputs": [
    {
     "data": {
      "text/html": [
       "<div style=\"width:100%;\"><div style=\"position:relative;width:100%;height:0;padding-bottom:60%;\"><iframe src=\"about:blank\" style=\"position:absolute;width:100%;height:100%;left:0;top:0;border:none !important;\" data-html=PCFET0NUWVBFIGh0bWw+CjxoZWFkPiAgICAKICAgIDxtZXRhIGh0dHAtZXF1aXY9ImNvbnRlbnQtdHlwZSIgY29udGVudD0idGV4dC9odG1sOyBjaGFyc2V0PVVURi04IiAvPgogICAgCiAgICAgICAgPHNjcmlwdD4KICAgICAgICAgICAgTF9OT19UT1VDSCA9IGZhbHNlOwogICAgICAgICAgICBMX0RJU0FCTEVfM0QgPSBmYWxzZTsKICAgICAgICA8L3NjcmlwdD4KICAgIAogICAgPHNjcmlwdCBzcmM9Imh0dHBzOi8vY2RuLmpzZGVsaXZyLm5ldC9ucG0vbGVhZmxldEAxLjYuMC9kaXN0L2xlYWZsZXQuanMiPjwvc2NyaXB0PgogICAgPHNjcmlwdCBzcmM9Imh0dHBzOi8vY29kZS5qcXVlcnkuY29tL2pxdWVyeS0xLjEyLjQubWluLmpzIj48L3NjcmlwdD4KICAgIDxzY3JpcHQgc3JjPSJodHRwczovL21heGNkbi5ib290c3RyYXBjZG4uY29tL2Jvb3RzdHJhcC8zLjIuMC9qcy9ib290c3RyYXAubWluLmpzIj48L3NjcmlwdD4KICAgIDxzY3JpcHQgc3JjPSJodHRwczovL2NkbmpzLmNsb3VkZmxhcmUuY29tL2FqYXgvbGlicy9MZWFmbGV0LmF3ZXNvbWUtbWFya2Vycy8yLjAuMi9sZWFmbGV0LmF3ZXNvbWUtbWFya2Vycy5qcyI+PC9zY3JpcHQ+CiAgICA8bGluayByZWw9InN0eWxlc2hlZXQiIGhyZWY9Imh0dHBzOi8vY2RuLmpzZGVsaXZyLm5ldC9ucG0vbGVhZmxldEAxLjYuMC9kaXN0L2xlYWZsZXQuY3NzIi8+CiAgICA8bGluayByZWw9InN0eWxlc2hlZXQiIGhyZWY9Imh0dHBzOi8vbWF4Y2RuLmJvb3RzdHJhcGNkbi5jb20vYm9vdHN0cmFwLzMuMi4wL2Nzcy9ib290c3RyYXAubWluLmNzcyIvPgogICAgPGxpbmsgcmVsPSJzdHlsZXNoZWV0IiBocmVmPSJodHRwczovL21heGNkbi5ib290c3RyYXBjZG4uY29tL2Jvb3RzdHJhcC8zLjIuMC9jc3MvYm9vdHN0cmFwLXRoZW1lLm1pbi5jc3MiLz4KICAgIDxsaW5rIHJlbD0ic3R5bGVzaGVldCIgaHJlZj0iaHR0cHM6Ly9tYXhjZG4uYm9vdHN0cmFwY2RuLmNvbS9mb250LWF3ZXNvbWUvNC42LjMvY3NzL2ZvbnQtYXdlc29tZS5taW4uY3NzIi8+CiAgICA8bGluayByZWw9InN0eWxlc2hlZXQiIGhyZWY9Imh0dHBzOi8vY2RuanMuY2xvdWRmbGFyZS5jb20vYWpheC9saWJzL0xlYWZsZXQuYXdlc29tZS1tYXJrZXJzLzIuMC4yL2xlYWZsZXQuYXdlc29tZS1tYXJrZXJzLmNzcyIvPgogICAgPGxpbmsgcmVsPSJzdHlsZXNoZWV0IiBocmVmPSJodHRwczovL3Jhd2Nkbi5naXRoYWNrLmNvbS9weXRob24tdmlzdWFsaXphdGlvbi9mb2xpdW0vbWFzdGVyL2ZvbGl1bS90ZW1wbGF0ZXMvbGVhZmxldC5hd2Vzb21lLnJvdGF0ZS5jc3MiLz4KICAgIDxzdHlsZT5odG1sLCBib2R5IHt3aWR0aDogMTAwJTtoZWlnaHQ6IDEwMCU7bWFyZ2luOiAwO3BhZGRpbmc6IDA7fTwvc3R5bGU+CiAgICA8c3R5bGU+I21hcCB7cG9zaXRpb246YWJzb2x1dGU7dG9wOjA7Ym90dG9tOjA7cmlnaHQ6MDtsZWZ0OjA7fTwvc3R5bGU+CiAgICAKICAgICAgICAgICAgPG1ldGEgbmFtZT0idmlld3BvcnQiIGNvbnRlbnQ9IndpZHRoPWRldmljZS13aWR0aCwKICAgICAgICAgICAgICAgIGluaXRpYWwtc2NhbGU9MS4wLCBtYXhpbXVtLXNjYWxlPTEuMCwgdXNlci1zY2FsYWJsZT1ubyIgLz4KICAgICAgICAgICAgPHN0eWxlPgogICAgICAgICAgICAgICAgI21hcF85YTJiYjdkNjhmYTQ0NzM2ODZmMGE1NjU4MTg5OWZkYiB7CiAgICAgICAgICAgICAgICAgICAgcG9zaXRpb246IHJlbGF0aXZlOwogICAgICAgICAgICAgICAgICAgIHdpZHRoOiAxMDAuMCU7CiAgICAgICAgICAgICAgICAgICAgaGVpZ2h0OiAxMDAuMCU7CiAgICAgICAgICAgICAgICAgICAgbGVmdDogMC4wJTsKICAgICAgICAgICAgICAgICAgICB0b3A6IDAuMCU7CiAgICAgICAgICAgICAgICB9CiAgICAgICAgICAgIDwvc3R5bGU+CiAgICAgICAgCjwvaGVhZD4KPGJvZHk+ICAgIAogICAgCiAgICAgICAgICAgIDxkaXYgY2xhc3M9ImZvbGl1bS1tYXAiIGlkPSJtYXBfOWEyYmI3ZDY4ZmE0NDczNjg2ZjBhNTY1ODE4OTlmZGIiID48L2Rpdj4KICAgICAgICAKPC9ib2R5Pgo8c2NyaXB0PiAgICAKICAgIAogICAgICAgICAgICB2YXIgbWFwXzlhMmJiN2Q2OGZhNDQ3MzY4NmYwYTU2NTgxODk5ZmRiID0gTC5tYXAoCiAgICAgICAgICAgICAgICAibWFwXzlhMmJiN2Q2OGZhNDQ3MzY4NmYwYTU2NTgxODk5ZmRiIiwKICAgICAgICAgICAgICAgIHsKICAgICAgICAgICAgICAgICAgICBjZW50ZXI6IFstMTAuMCwgLTIwLjBdLAogICAgICAgICAgICAgICAgICAgIGNyczogTC5DUlMuRVBTRzM4NTcsCiAgICAgICAgICAgICAgICAgICAgem9vbTogNCwKICAgICAgICAgICAgICAgICAgICB6b29tQ29udHJvbDogdHJ1ZSwKICAgICAgICAgICAgICAgICAgICBwcmVmZXJDYW52YXM6IGZhbHNlLAogICAgICAgICAgICAgICAgfQogICAgICAgICAgICApOwoKICAgICAgICAgICAgCgogICAgICAgIAogICAgCiAgICAgICAgICAgIHZhciB0aWxlX2xheWVyXzNhNTE5NDdjYmVmZDQ2M2FhNjMxNDFkMDVlZTY0MGNjID0gTC50aWxlTGF5ZXIoCiAgICAgICAgICAgICAgICAiaHR0cHM6Ly97c30udGlsZS5vcGVuc3RyZWV0bWFwLm9yZy97en0ve3h9L3t5fS5wbmciLAogICAgICAgICAgICAgICAgeyJhdHRyaWJ1dGlvbiI6ICJEYXRhIGJ5IFx1MDAyNmNvcHk7IFx1MDAzY2EgaHJlZj1cImh0dHA6Ly9vcGVuc3RyZWV0bWFwLm9yZ1wiXHUwMDNlT3BlblN0cmVldE1hcFx1MDAzYy9hXHUwMDNlLCB1bmRlciBcdTAwM2NhIGhyZWY9XCJodHRwOi8vd3d3Lm9wZW5zdHJlZXRtYXAub3JnL2NvcHlyaWdodFwiXHUwMDNlT0RiTFx1MDAzYy9hXHUwMDNlLiIsICJkZXRlY3RSZXRpbmEiOiBmYWxzZSwgIm1heE5hdGl2ZVpvb20iOiAxOCwgIm1heFpvb20iOiAxOCwgIm1pblpvb20iOiAwLCAibm9XcmFwIjogZmFsc2UsICJvcGFjaXR5IjogMSwgInN1YmRvbWFpbnMiOiAiYWJjIiwgInRtcyI6IGZhbHNlfQogICAgICAgICAgICApLmFkZFRvKG1hcF85YTJiYjdkNjhmYTQ0NzM2ODZmMGE1NjU4MTg5OWZkYik7CiAgICAgICAgCiAgICAKICAgICAgICAgICAgdmFyIHRpbGVfbGF5ZXJfNjQyN2U0NjcxOTMyNGE5MzkzY2QzY2MyNWFhNGI3NTYgPSBMLnRpbGVMYXllcigKICAgICAgICAgICAgICAgICJodHRwOi8vc2VydmljZXMuYXJjZ2lzb25saW5lLmNvbS9hcmNnaXMvcmVzdC9zZXJ2aWNlcy9PY2Vhbi9Xb3JsZF9PY2Vhbl9CYXNlL01hcFNlcnZlci90aWxlL3t6fS97eX0ve3h9IiwKICAgICAgICAgICAgICAgIHsiYXR0cmlidXRpb24iOiAiRVNSSSIsICJkZXRlY3RSZXRpbmEiOiBmYWxzZSwgIm1heE5hdGl2ZVpvb20iOiAxOCwgIm1heFpvb20iOiAxOCwgIm1pblpvb20iOiAwLCAibm9XcmFwIjogZmFsc2UsICJvcGFjaXR5IjogMSwgInN1YmRvbWFpbnMiOiAiYWJjIiwgInRtcyI6IGZhbHNlfQogICAgICAgICAgICApLmFkZFRvKG1hcF85YTJiYjdkNjhmYTQ0NzM2ODZmMGE1NjU4MTg5OWZkYik7CiAgICAgICAgCiAgICAKICAgICAgICAgICAgdmFyIHRpbGVfbGF5ZXJfMjA0NDgyZTUwNWFiNDYxOWE4ZmY4ZjNmOTEyNDM3ZjIgPSBMLnRpbGVMYXllcigKICAgICAgICAgICAgICAgICJodHRwOi8vc2VydmljZXMuYXJjZ2lzb25saW5lLmNvbS9hcmNnaXMvcmVzdC9zZXJ2aWNlcy9PY2Vhbi9Xb3JsZF9PY2Vhbl9SZWZlcmVuY2UvTWFwU2VydmVyL3RpbGUve3p9L3t5fS97eH0iLAogICAgICAgICAgICAgICAgeyJhdHRyaWJ1dGlvbiI6ICJFU1JJIiwgImRldGVjdFJldGluYSI6IGZhbHNlLCAibWF4TmF0aXZlWm9vbSI6IDE4LCAibWF4Wm9vbSI6IDE4LCAibWluWm9vbSI6IDAsICJub1dyYXAiOiBmYWxzZSwgIm9wYWNpdHkiOiAxLCAic3ViZG9tYWlucyI6ICJhYmMiLCAidG1zIjogZmFsc2V9CiAgICAgICAgICAgICkuYWRkVG8obWFwXzlhMmJiN2Q2OGZhNDQ3MzY4NmYwYTU2NTgxODk5ZmRiKTsKICAgICAgICAKICAgIAogICAgICAgICAgICB2YXIgdGlsZV9sYXllcl8xMzVlMjJlZWVhN2M0NDJmYjI3NDRmNGQzYzE1MTI3MSA9IEwudGlsZUxheWVyKAogICAgICAgICAgICAgICAgImh0dHA6Ly9zZXJ2aWNlcy5hcmNnaXNvbmxpbmUuY29tL2FyY2dpcy9yZXN0L3NlcnZpY2VzL05hdEdlb19Xb3JsZF9NYXAvTWFwU2VydmVyL01hcFNlcnZlci90aWxlL3t6fS97eX0ve3h9IiwKICAgICAgICAgICAgICAgIHsiYXR0cmlidXRpb24iOiAiRVNSSSIsICJkZXRlY3RSZXRpbmEiOiBmYWxzZSwgIm1heE5hdGl2ZVpvb20iOiAxOCwgIm1heFpvb20iOiAxOCwgIm1pblpvb20iOiAwLCAibm9XcmFwIjogZmFsc2UsICJvcGFjaXR5IjogMSwgInN1YmRvbWFpbnMiOiAiYWJjIiwgInRtcyI6IGZhbHNlfQogICAgICAgICAgICApLmFkZFRvKG1hcF85YTJiYjdkNjhmYTQ0NzM2ODZmMGE1NjU4MTg5OWZkYik7CiAgICAgICAgCiAgICAKICAgICAgICAgICAgdmFyIHRpbGVfbGF5ZXJfYTAzNzZiYzMwMjVkNGI5ZGJjNzM4YzkzMmEzODUzYzIgPSBMLnRpbGVMYXllcigKICAgICAgICAgICAgICAgICJodHRwOi8vc2VydmljZXMuYXJjZ2lzb25saW5lLmNvbS9hcmNnaXMvcmVzdC9zZXJ2aWNlcy9Xb3JsZF9JbWFnZXJ5L01hcFNlcnZlci9NYXBTZXJ2ZXIvdGlsZS97en0ve3l9L3t4fSIsCiAgICAgICAgICAgICAgICB7ImF0dHJpYnV0aW9uIjogIkVTUkkiLCAiZGV0ZWN0UmV0aW5hIjogZmFsc2UsICJtYXhOYXRpdmVab29tIjogMTgsICJtYXhab29tIjogMTgsICJtaW5ab29tIjogMCwgIm5vV3JhcCI6IGZhbHNlLCAib3BhY2l0eSI6IDEsICJzdWJkb21haW5zIjogImFiYyIsICJ0bXMiOiBmYWxzZX0KICAgICAgICAgICAgKS5hZGRUbyhtYXBfOWEyYmI3ZDY4ZmE0NDczNjg2ZjBhNTY1ODE4OTlmZGIpOwogICAgICAgIAogICAgCiAgICAgICAgICAgIHZhciB0aWxlX2xheWVyXzY0OTU1YzNjYjlkYjQ3YmM4ODQxNTE1YmUyZmJiZThlID0gTC50aWxlTGF5ZXIoCiAgICAgICAgICAgICAgICAiaHR0cDovL3NlcnZpY2VzLmFyY2dpc29ubGluZS5jb20vYXJjZ2lzL3Jlc3Qvc2VydmljZXMvV29ybGRfUGh5c2ljYWxfTWFwL01hcFNlcnZlci9NYXBTZXJ2ZXIvdGlsZS97en0ve3l9L3t4fSIsCiAgICAgICAgICAgICAgICB7ImF0dHJpYnV0aW9uIjogIkVTUkkiLCAiZGV0ZWN0UmV0aW5hIjogZmFsc2UsICJtYXhOYXRpdmVab29tIjogMTgsICJtYXhab29tIjogMTgsICJtaW5ab29tIjogMCwgIm5vV3JhcCI6IGZhbHNlLCAib3BhY2l0eSI6IDEsICJzdWJkb21haW5zIjogImFiYyIsICJ0bXMiOiBmYWxzZX0KICAgICAgICAgICAgKS5hZGRUbyhtYXBfOWEyYmI3ZDY4ZmE0NDczNjg2ZjBhNTY1ODE4OTlmZGIpOwogICAgICAgIAogICAgCiAgICAgICAgICAgIHZhciB0aWxlX2xheWVyXzdiYjNmNzcyYzczYTRiODBhODlkNjkwYWI0NjEyYTA0ID0gTC50aWxlTGF5ZXIoCiAgICAgICAgICAgICAgICAiaHR0cDovL3NlcnZpY2VzLmFyY2dpc29ubGluZS5jb20vYXJjZ2lzL3Jlc3Qvc2VydmljZXMvV29ybGRfU2hhZGVkX1JlbGllZi9NYXBTZXJ2ZXIvTWFwU2VydmVyL3RpbGUve3p9L3t5fS97eH0iLAogICAgICAgICAgICAgICAgeyJhdHRyaWJ1dGlvbiI6ICJFU1JJIiwgImRldGVjdFJldGluYSI6IGZhbHNlLCAibWF4TmF0aXZlWm9vbSI6IDE4LCAibWF4Wm9vbSI6IDE4LCAibWluWm9vbSI6IDAsICJub1dyYXAiOiBmYWxzZSwgIm9wYWNpdHkiOiAxLCAic3ViZG9tYWlucyI6ICJhYmMiLCAidG1zIjogZmFsc2V9CiAgICAgICAgICAgICkuYWRkVG8obWFwXzlhMmJiN2Q2OGZhNDQ3MzY4NmYwYTU2NTgxODk5ZmRiKTsKICAgICAgICAKICAgIAogICAgICAgICAgICB2YXIgdGlsZV9sYXllcl82ZWExM2VkZjAyM2I0ZTA4YTQxYzJmYTMzOWE4MjQ3MCA9IEwudGlsZUxheWVyKAogICAgICAgICAgICAgICAgImh0dHA6Ly9zZXJ2aWNlcy5hcmNnaXNvbmxpbmUuY29tL2FyY2dpcy9yZXN0L3NlcnZpY2VzL1dvcmxkX1N0cmVldF9NYXAvTWFwU2VydmVyL01hcFNlcnZlci90aWxlL3t6fS97eX0ve3h9IiwKICAgICAgICAgICAgICAgIHsiYXR0cmlidXRpb24iOiAiRVNSSSIsICJkZXRlY3RSZXRpbmEiOiBmYWxzZSwgIm1heE5hdGl2ZVpvb20iOiAxOCwgIm1heFpvb20iOiAxOCwgIm1pblpvb20iOiAwLCAibm9XcmFwIjogZmFsc2UsICJvcGFjaXR5IjogMSwgInN1YmRvbWFpbnMiOiAiYWJjIiwgInRtcyI6IGZhbHNlfQogICAgICAgICAgICApLmFkZFRvKG1hcF85YTJiYjdkNjhmYTQ0NzM2ODZmMGE1NjU4MTg5OWZkYik7CiAgICAgICAgCiAgICAKICAgICAgICAgICAgdmFyIHRpbGVfbGF5ZXJfYWU1NjVlNmE5NmMzNDQ5MGE4M2NiZTljYWZjN2Y5YzUgPSBMLnRpbGVMYXllcigKICAgICAgICAgICAgICAgICJodHRwOi8vc2VydmljZXMuYXJjZ2lzb25saW5lLmNvbS9hcmNnaXMvcmVzdC9zZXJ2aWNlcy9Xb3JsZF9UZXJyYWluX0Jhc2UvTWFwU2VydmVyL01hcFNlcnZlci90aWxlL3t6fS97eX0ve3h9IiwKICAgICAgICAgICAgICAgIHsiYXR0cmlidXRpb24iOiAiRVNSSSIsICJkZXRlY3RSZXRpbmEiOiBmYWxzZSwgIm1heE5hdGl2ZVpvb20iOiAxOCwgIm1heFpvb20iOiAxOCwgIm1pblpvb20iOiAwLCAibm9XcmFwIjogZmFsc2UsICJvcGFjaXR5IjogMSwgInN1YmRvbWFpbnMiOiAiYWJjIiwgInRtcyI6IGZhbHNlfQogICAgICAgICAgICApLmFkZFRvKG1hcF85YTJiYjdkNjhmYTQ0NzM2ODZmMGE1NjU4MTg5OWZkYik7CiAgICAgICAgCiAgICAKICAgICAgICAgICAgdmFyIHRpbGVfbGF5ZXJfOGI5YTA4NDY0YTc0NDgzODliMjZhNmIyOGU1ZDNiMDAgPSBMLnRpbGVMYXllcigKICAgICAgICAgICAgICAgICJodHRwOi8vc2VydmljZXMuYXJjZ2lzb25saW5lLmNvbS9hcmNnaXMvcmVzdC9zZXJ2aWNlcy9Xb3JsZF9Ub3BvX01hcC9NYXBTZXJ2ZXIvTWFwU2VydmVyL3RpbGUve3p9L3t5fS97eH0iLAogICAgICAgICAgICAgICAgeyJhdHRyaWJ1dGlvbiI6ICJFU1JJIiwgImRldGVjdFJldGluYSI6IGZhbHNlLCAibWF4TmF0aXZlWm9vbSI6IDE4LCAibWF4Wm9vbSI6IDE4LCAibWluWm9vbSI6IDAsICJub1dyYXAiOiBmYWxzZSwgIm9wYWNpdHkiOiAxLCAic3ViZG9tYWlucyI6ICJhYmMiLCAidG1zIjogZmFsc2V9CiAgICAgICAgICAgICkuYWRkVG8obWFwXzlhMmJiN2Q2OGZhNDQ3MzY4NmYwYTU2NTgxODk5ZmRiKTsKICAgICAgICAKICAgIAogICAgICAgICAgICB2YXIgbGF5ZXJfY29udHJvbF82MWJiMTEzNzUzZmI0ZGQyODE5N2U4NTExZTAzN2NkOCA9IHsKICAgICAgICAgICAgICAgIGJhc2VfbGF5ZXJzIDogewogICAgICAgICAgICAgICAgICAgICJvcGVuc3RyZWV0bWFwIiA6IHRpbGVfbGF5ZXJfM2E1MTk0N2NiZWZkNDYzYWE2MzE0MWQwNWVlNjQwY2MsCiAgICAgICAgICAgICAgICB9LAogICAgICAgICAgICAgICAgb3ZlcmxheXMgOiAgewogICAgICAgICAgICAgICAgICAgICJXb3JsZF9PY2Vhbl9CYXNlIiA6IHRpbGVfbGF5ZXJfNjQyN2U0NjcxOTMyNGE5MzkzY2QzY2MyNWFhNGI3NTYsCiAgICAgICAgICAgICAgICAgICAgIldvcmxkX09jZWFuX1JlZmVyZW5jZSIgOiB0aWxlX2xheWVyXzIwNDQ4MmU1MDVhYjQ2MTlhOGZmOGYzZjkxMjQzN2YyLAogICAgICAgICAgICAgICAgICAgICJOYXRHZW9fV29ybGRfTWFwIiA6IHRpbGVfbGF5ZXJfMTM1ZTIyZWVlYTdjNDQyZmIyNzQ0ZjRkM2MxNTEyNzEsCiAgICAgICAgICAgICAgICAgICAgIldvcmxkX0ltYWdlcnkiIDogdGlsZV9sYXllcl9hMDM3NmJjMzAyNWQ0YjlkYmM3MzhjOTMyYTM4NTNjMiwKICAgICAgICAgICAgICAgICAgICAiV29ybGRfUGh5c2ljYWxfTWFwIiA6IHRpbGVfbGF5ZXJfNjQ5NTVjM2NiOWRiNDdiYzg4NDE1MTViZTJmYmJlOGUsCiAgICAgICAgICAgICAgICAgICAgIldvcmxkX1NoYWRlZF9SZWxpZWYiIDogdGlsZV9sYXllcl83YmIzZjc3MmM3M2E0YjgwYTg5ZDY5MGFiNDYxMmEwNCwKICAgICAgICAgICAgICAgICAgICAiV29ybGRfU3RyZWV0X01hcCIgOiB0aWxlX2xheWVyXzZlYTEzZWRmMDIzYjRlMDhhNDFjMmZhMzM5YTgyNDcwLAogICAgICAgICAgICAgICAgICAgICJXb3JsZF9UZXJyYWluX0Jhc2UiIDogdGlsZV9sYXllcl9hZTU2NWU2YTk2YzM0NDkwYTgzY2JlOWNhZmM3ZjljNSwKICAgICAgICAgICAgICAgICAgICAiV29ybGRfVG9wb19NYXAiIDogdGlsZV9sYXllcl84YjlhMDg0NjRhNzQ0ODM4OWIyNmE2YjI4ZTVkM2IwMCwKICAgICAgICAgICAgICAgIH0sCiAgICAgICAgICAgIH07CiAgICAgICAgICAgIEwuY29udHJvbC5sYXllcnMoCiAgICAgICAgICAgICAgICBsYXllcl9jb250cm9sXzYxYmIxMTM3NTNmYjRkZDI4MTk3ZTg1MTFlMDM3Y2Q4LmJhc2VfbGF5ZXJzLAogICAgICAgICAgICAgICAgbGF5ZXJfY29udHJvbF82MWJiMTEzNzUzZmI0ZGQyODE5N2U4NTExZTAzN2NkOC5vdmVybGF5cywKICAgICAgICAgICAgICAgIHsiYXV0b1pJbmRleCI6IHRydWUsICJjb2xsYXBzZWQiOiB0cnVlLCAicG9zaXRpb24iOiAidG9wcmlnaHQifQogICAgICAgICAgICApLmFkZFRvKG1hcF85YTJiYjdkNjhmYTQ0NzM2ODZmMGE1NjU4MTg5OWZkYik7CiAgICAgICAgCjwvc2NyaXB0Pg== onload=\"this.contentDocument.open();this.contentDocument.write(atob(this.getAttribute('data-html')));this.contentDocument.close();\" allowfullscreen webkitallowfullscreen mozallowfullscreen></iframe></div></div>"
      ],
      "text/plain": [
       "<folium.folium.Map at 0x1f57a4ac760>"
      ]
     },
     "execution_count": 3,
     "metadata": {},
     "output_type": "execute_result"
    }
   ],
   "source": [
    "mapa = folium.Map(location=[-10, -20], zoom_start=4)\n",
    "\n",
    "pre = 'http://services.arcgisonline.com/arcgis/rest/services'\n",
    "pos = 'MapServer/tile/{z}/{y}/{x}'\n",
    "\n",
    "ESRI = dict(World_Ocean_Base='Ocean/World_Ocean_Base',\n",
    "            World_Ocean_Reference='Ocean/World_Ocean_Reference',\n",
    "            NatGeo_World_Map='NatGeo_World_Map/MapServer',\n",
    "            World_Imagery='World_Imagery/MapServer',\n",
    "            World_Physical_Map='World_Physical_Map/MapServer',\n",
    "            World_Shaded_Relief='World_Shaded_Relief/MapServer',\n",
    "            World_Street_Map='World_Street_Map/MapServer',\n",
    "            World_Terrain_Base='World_Terrain_Base/MapServer',\n",
    "            World_Topo_Map='World_Topo_Map/MapServer')\n",
    "\n",
    "for name, tile in ESRI.items():\n",
    "    url = '{}/{}/{}'.format(pre, tile, pos)\n",
    "    w = folium.TileLayer(tiles=url,\n",
    "                         name=name,\n",
    "                         attr='ESRI',\n",
    "                         overlay=True)\n",
    "    w.add_to(mapa)\n",
    "\n",
    "\n",
    "# FIXME: active=False by default.\n",
    "mapa.add_child(folium.LayerControl())\n",
    "mapa"
   ]
  },
  {
   "cell_type": "code",
   "execution_count": 9,
   "metadata": {},
   "outputs": [
    {
     "ename": "ValueError",
     "evalue": "Custom tiles must have an attribution.",
     "output_type": "error",
     "traceback": [
      "\u001b[1;31m---------------------------------------------------------------------------\u001b[0m",
      "\u001b[1;31mValueError\u001b[0m                                Traceback (most recent call last)",
      "\u001b[1;32m<ipython-input-9-bf745ef85625>\u001b[0m in \u001b[0;36m<module>\u001b[1;34m\u001b[0m\n\u001b[0;32m     24\u001b[0m          )\n\u001b[0;32m     25\u001b[0m \u001b[1;33m\u001b[0m\u001b[0m\n\u001b[1;32m---> 26\u001b[1;33m w = folium.TileLayer(tiles=url,\n\u001b[0m\u001b[0;32m     27\u001b[0m                      \u001b[0mname\u001b[0m\u001b[1;33m=\u001b[0m\u001b[1;34m'World_Navigation_Charts'\u001b[0m\u001b[1;33m,\u001b[0m\u001b[1;33m\u001b[0m\u001b[1;33m\u001b[0m\u001b[0m\n\u001b[0;32m     28\u001b[0m                      overlay=True, **kw)\n",
      "\u001b[1;32m~\\anaconda3\\envs\\data\\lib\\site-packages\\folium\\raster_layers.py\u001b[0m in \u001b[0;36m__init__\u001b[1;34m(self, tiles, min_zoom, max_zoom, max_native_zoom, attr, API_key, detect_retina, name, overlay, control, show, no_wrap, subdomains, tms, opacity, **kwargs)\u001b[0m\n\u001b[0;32m    106\u001b[0m             \u001b[0mself\u001b[0m\u001b[1;33m.\u001b[0m\u001b[0mtiles\u001b[0m \u001b[1;33m=\u001b[0m \u001b[0mtiles\u001b[0m\u001b[1;33m\u001b[0m\u001b[1;33m\u001b[0m\u001b[0m\n\u001b[0;32m    107\u001b[0m             \u001b[1;32mif\u001b[0m \u001b[1;32mnot\u001b[0m \u001b[0mattr\u001b[0m\u001b[1;33m:\u001b[0m\u001b[1;33m\u001b[0m\u001b[1;33m\u001b[0m\u001b[0m\n\u001b[1;32m--> 108\u001b[1;33m                 \u001b[1;32mraise\u001b[0m \u001b[0mValueError\u001b[0m\u001b[1;33m(\u001b[0m\u001b[1;34m'Custom tiles must have an attribution.'\u001b[0m\u001b[1;33m)\u001b[0m\u001b[1;33m\u001b[0m\u001b[1;33m\u001b[0m\u001b[0m\n\u001b[0m\u001b[0;32m    109\u001b[0m \u001b[1;33m\u001b[0m\u001b[0m\n\u001b[0;32m    110\u001b[0m         self.options = parse_options(\n",
      "\u001b[1;31mValueError\u001b[0m: Custom tiles must have an attribution."
     ]
    }
   ],
   "source": [
    "mapa = folium.Map(location=[-10, -20], zoom_start=1)\n",
    "\n",
    "url = ('http://services.arcgisonline.com/ArcGIS/rest/services/Specialty/World_Navigation_Charts')\n",
    "\n",
    "kw = dict(minZoom=0, # Number\n",
    "          maxZoom=18, # Number\n",
    "          maxNativeZoom=None, # null, Number\n",
    "          tileSize=256,  # Number\n",
    "          subdomains='abc', # 'abc', String or String[]\n",
    "          errorTileUrl='', # String\n",
    "          attr='', # String\n",
    "          tms=False, # Boolean\n",
    "          continuousWorld=False, # Boolean\n",
    "          noWrap=False, # Boolean\n",
    "          zoomOffset=0, # Number\n",
    "          zoomReverse=False, # Boolean\n",
    "          opacity=1.0, # Number\n",
    "          zIndex=None, # null, Number\n",
    "          unloadInvisibleTiles=False, # Boolean\n",
    "          updateWhenIdle=False, # Boolean\n",
    "          detectRetina=False, # Boolean\n",
    "          reuseTiles=False, # Boolean\n",
    "          bounds=None, # null, LatLngBounds\n",
    "         )\n",
    "\n",
    "w = folium.TileLayer(tiles=url,\n",
    "                     name='World_Navigation_Charts',\n",
    "                     overlay=True, **kw)\n",
    "\n",
    "mapa.add_child(folium.LayerControl())\n",
    "mapa"
   ]
  },
  {
   "cell_type": "code",
   "execution_count": null,
   "metadata": {},
   "outputs": [],
   "source": []
  }
 ],
 "metadata": {
  "kernelspec": {
   "display_name": "Python 3",
   "language": "python",
   "name": "python3"
  },
  "language_info": {
   "codemirror_mode": {
    "name": "ipython",
    "version": 3
   },
   "file_extension": ".py",
   "mimetype": "text/x-python",
   "name": "python",
   "nbconvert_exporter": "python",
   "pygments_lexer": "ipython3",
   "version": "3.8.2"
  }
 },
 "nbformat": 4,
 "nbformat_minor": 4
}
