{
 "cells": [
  {
   "cell_type": "markdown",
   "metadata": {},
   "source": [
    "# Display all colored saved places from google maps on open-street-map "
   ]
  },
  {
   "cell_type": "code",
   "execution_count": 1,
   "metadata": {},
   "outputs": [],
   "source": [
    "import geopandas as gpd\n",
    "import  ipyleaflet\n",
    "import folium\n",
    "import numpy as np\n",
    "import matplotlib.pyplot as plt"
   ]
  },
  {
   "cell_type": "markdown",
   "metadata": {},
   "source": [
    "import places from google"
   ]
  },
  {
   "cell_type": "code",
   "execution_count": 2,
   "metadata": {},
   "outputs": [],
   "source": [
    "from ipyleaflet import basemaps, Map, Marker, Icon, AwesomeIcon"
   ]
  },
  {
   "cell_type": "code",
   "execution_count": 3,
   "metadata": {},
   "outputs": [],
   "source": [
    "where = './stars/Saved Places.json'\n",
    "places = gpd.read_file(where)"
   ]
  },
  {
   "cell_type": "code",
   "execution_count": 4,
   "metadata": {},
   "outputs": [],
   "source": [
    "# Cloudmade Mapbox needs an API key, Mapbox Control Room is limited to a few levels\n",
    "tiles = [name.strip() for name in \"\"\"\n",
    "    OpenStreetMap\n",
    "    Mapbox Bright\n",
    "    Mapbox Control Room\n",
    "    Stamen Terrain\n",
    "    Stamen Toner\n",
    "    Stamen Watercolor\n",
    "    CartoDB positron\n",
    "    CartoDB dark_matter\"\"\".strip().split('\\n')]\n",
    "\n",
    "#@interact(lat=(-90., 90.), lon=(-180., 180.), tiles=tiles, zoom=(1, 18))\n",
    "#def create_map(lat=52.518611, lon=13.408333, tiles=\"Stamen Toner\", zoom=10):\n",
    "#    return folium.Map(location=(lat, lon), tiles=tiles, zoom_start=zoom)"
   ]
  },
  {
   "cell_type": "code",
   "execution_count": 5,
   "metadata": {},
   "outputs": [],
   "source": [
    "m = Map(basemap = basemaps.OpenStreetMap.Mapnik ,center=(52.518611, 13.408333), zoom= 10 )"
   ]
  },
  {
   "cell_type": "code",
   "execution_count": 6,
   "metadata": {},
   "outputs": [
    {
     "data": {
      "application/vnd.jupyter.widget-view+json": {
       "model_id": "c820e7f28f9a4cb09c53cc44f0667f6a",
       "version_major": 2,
       "version_minor": 0
      },
      "text/plain": [
       "Map(center=[52.518611, 13.408333], controls=(ZoomControl(options=['position', 'zoom_in_text', 'zoom_in_title',…"
      ]
     },
     "metadata": {},
     "output_type": "display_data"
    }
   ],
   "source": [
    "m"
   ]
  },
  {
   "cell_type": "code",
   "execution_count": 9,
   "metadata": {},
   "outputs": [],
   "source": [
    "m = Map(basemap=basemaps.HikeBike.HikeBike, center=(52.518611, 13.408333), zoom= 10 )"
   ]
  },
  {
   "cell_type": "code",
   "execution_count": 10,
   "metadata": {},
   "outputs": [
    {
     "data": {
      "application/vnd.jupyter.widget-view+json": {
       "model_id": "2e5123e5ed3c40cb81dbb9dd96aa1281",
       "version_major": 2,
       "version_minor": 0
      },
      "text/plain": [
       "Map(center=[52.518611, 13.408333], controls=(ZoomControl(options=['position', 'zoom_in_text', 'zoom_in_title',…"
      ]
     },
     "metadata": {},
     "output_type": "display_data"
    }
   ],
   "source": [
    "m"
   ]
  },
  {
   "cell_type": "markdown",
   "metadata": {},
   "source": [
    "## dictionary for assigning a number to each type of interest (for diversifying markers)"
   ]
  },
  {
   "cell_type": "code",
   "execution_count": 98,
   "metadata": {},
   "outputs": [],
   "source": [
    "colors_scheme = {1: 'Climb' , 2:'Visit', 3:'Eat', 4:'Beach', 5:'Bike'}"
   ]
  },
  {
   "cell_type": "markdown",
   "metadata": {},
   "source": [
    "load the colors assigned to each marker so far"
   ]
  },
  {
   "cell_type": "code",
   "execution_count": 12,
   "metadata": {},
   "outputs": [],
   "source": [
    "colors = np.load('colors.npy')"
   ]
  },
  {
   "cell_type": "code",
   "execution_count": 14,
   "metadata": {},
   "outputs": [
    {
     "data": {
      "text/plain": [
       "(149,)"
      ]
     },
     "execution_count": 14,
     "metadata": {},
     "output_type": "execute_result"
    }
   ],
   "source": [
    "colors.shape"
   ]
  },
  {
   "cell_type": "code",
   "execution_count": 50,
   "metadata": {},
   "outputs": [],
   "source": [
    "#not working\n",
    "#visit = folium.Icon(color = 'blue',icon= 'bookmark')\n",
    "#eat = folium.Icon(color = 'red', icon = 'leaf')\n",
    "#climb = folium.Icon(color = 'green',icon = 'star')\n",
    "#bike =  folium.Icon(color = 'green',icon = 'star' )\n",
    "#beach = folium.Icon(color = 'orange', icon = 'cloud')\n",
    "#icons_list = [climb , visit , eat , beach , bike]"
   ]
  },
  {
   "cell_type": "code",
   "execution_count": 97,
   "metadata": {},
   "outputs": [
    {
     "ename": "NameError",
     "evalue": "name 'colors_scheme' is not defined",
     "output_type": "error",
     "traceback": [
      "\u001b[1;31m---------------------------------------------------------------------------\u001b[0m",
      "\u001b[1;31mNameError\u001b[0m                                 Traceback (most recent call last)",
      "\u001b[1;32m<ipython-input-97-1cb73c092cbf>\u001b[0m in \u001b[0;36m<module>\u001b[1;34m\u001b[0m\n\u001b[1;32m----> 1\u001b[1;33m \u001b[0mcolors_scheme\u001b[0m\u001b[1;33m\u001b[0m\u001b[1;33m\u001b[0m\u001b[0m\n\u001b[0m",
      "\u001b[1;31mNameError\u001b[0m: name 'colors_scheme' is not defined"
     ]
    }
   ],
   "source": [
    "colors_scheme"
   ]
  },
  {
   "cell_type": "code",
   "execution_count": 101,
   "metadata": {},
   "outputs": [
    {
     "data": {
      "text/plain": [
       "dict_values(['Climb', 'Visit', 'Eat', 'Beach', 'Bike'])"
      ]
     },
     "execution_count": 101,
     "metadata": {},
     "output_type": "execute_result"
    }
   ],
   "source": [
    "colors_scheme.values()"
   ]
  },
  {
   "cell_type": "markdown",
   "metadata": {},
   "source": [
    "### Show all the places"
   ]
  },
  {
   "cell_type": "code",
   "execution_count": 5,
   "metadata": {},
   "outputs": [],
   "source": [
    "icons_list = [('blue','cloud'),('darkblue', 'info-sign'),('green','leaf'),('orange','star'),('red','star'),]"
   ]
  },
  {
   "cell_type": "code",
   "execution_count": 81,
   "metadata": {},
   "outputs": [
    {
     "ename": "SyntaxError",
     "evalue": "invalid syntax (<ipython-input-81-cc6469c2e2d8>, line 2)",
     "output_type": "error",
     "traceback": [
      "\u001b[1;36m  File \u001b[1;32m\"<ipython-input-81-cc6469c2e2d8>\"\u001b[1;36m, line \u001b[1;32m2\u001b[0m\n\u001b[1;33m    beach = AwesomeIcon(\u001b[0m\n\u001b[1;37m          ^\u001b[0m\n\u001b[1;31mSyntaxError\u001b[0m\u001b[1;31m:\u001b[0m invalid syntax\n"
     ]
    }
   ],
   "source": [
    "\n",
    "beach = AwesomeIcon(\n",
    "    name='umbrella-beach',\n",
    "    marker_color='orange',\n",
    "    icon_color='white',\n",
    "    spin=False\n",
    ")\n",
    "\n",
    "eat = AwesomeIcon(\n",
    "    name='pizza-slice',\n",
    "    marker_color='red',\n",
    "    icon_color='black',\n",
    "    spin=False\n",
    ")\n",
    "\n",
    "visit = AwesomeIcon(\n",
    "    name='landmark',\n",
    "    marker_color='blue',\n",
    "    icon_color='white',\n",
    "    spin=False\n",
    ")\n",
    "\n",
    "climb = AwesomeIcon(\n",
    "    name='mountain',\n",
    "    marker_color='green',\n",
    "    icon_color='black',\n",
    "    spin=False\n",
    ")\n",
    "\n",
    "bike = AwesomeIcon(\n",
    "    name='bike',\n",
    "    marker_color='beige',\n",
    "    icon_color='black',\n",
    "    spin=False\n",
    ")\n"
   ]
  },
  {
   "cell_type": "code",
   "execution_count": 83,
   "metadata": {},
   "outputs": [],
   "source": [
    "icon_list = [climb, visit, eat, beach, bike]"
   ]
  },
  {
   "cell_type": "code",
   "execution_count": 55,
   "metadata": {},
   "outputs": [],
   "source": [
    "places_coords = [(x.coords[0][1],x.coords[0][0]) for x in places.geometry]"
   ]
  },
  {
   "cell_type": "code",
   "execution_count": 73,
   "metadata": {},
   "outputs": [],
   "source": [
    "m = Map(center=(41.89 , 12.51) , zoom=10)"
   ]
  },
  {
   "cell_type": "code",
   "execution_count": 74,
   "metadata": {},
   "outputs": [
    {
     "data": {
      "application/vnd.jupyter.widget-view+json": {
       "model_id": "9e3977bc27634c77bcdcab4d1231f2c4",
       "version_major": 2,
       "version_minor": 0
      },
      "text/plain": [
       "Map(center=[41.89, 12.51], controls=(ZoomControl(options=['position', 'zoom_in_text', 'zoom_in_title', 'zoom_o…"
      ]
     },
     "metadata": {},
     "output_type": "display_data"
    }
   ],
   "source": [
    "m"
   ]
  },
  {
   "cell_type": "code",
   "execution_count": 75,
   "metadata": {},
   "outputs": [],
   "source": [
    "marker = Marker(location= places_coords[0], draggable=False, icon = icon , title = 'WTF' )\n",
    "m.add_layer(marker)"
   ]
  },
  {
   "cell_type": "code",
   "execution_count": 76,
   "metadata": {},
   "outputs": [
    {
     "data": {
      "application/vnd.jupyter.widget-view+json": {
       "model_id": "9e3977bc27634c77bcdcab4d1231f2c4",
       "version_major": 2,
       "version_minor": 0
      },
      "text/plain": [
       "Map(bottom=97620.0, center=[41.89, 12.51], controls=(ZoomControl(options=['position', 'zoom_in_text', 'zoom_in…"
      ]
     },
     "metadata": {},
     "output_type": "display_data"
    }
   ],
   "source": [
    "m"
   ]
  },
  {
   "cell_type": "code",
   "execution_count": null,
   "metadata": {},
   "outputs": [],
   "source": []
  },
  {
   "cell_type": "code",
   "execution_count": 93,
   "metadata": {},
   "outputs": [
    {
     "ename": "IndexError",
     "evalue": "list index out of range",
     "output_type": "error",
     "traceback": [
      "\u001b[1;31m---------------------------------------------------------------------------\u001b[0m",
      "\u001b[1;31mIndexError\u001b[0m                                Traceback (most recent call last)",
      "\u001b[1;32m<ipython-input-93-83cbd4ac09cd>\u001b[0m in \u001b[0;36m<module>\u001b[1;34m\u001b[0m\n\u001b[0;32m      1\u001b[0m \u001b[1;32mfor\u001b[0m \u001b[0mi\u001b[0m \u001b[1;32min\u001b[0m \u001b[0mrange\u001b[0m\u001b[1;33m(\u001b[0m\u001b[0mlen\u001b[0m\u001b[1;33m(\u001b[0m\u001b[0mplaces_coords\u001b[0m\u001b[1;33m)\u001b[0m\u001b[1;33m)\u001b[0m\u001b[1;33m:\u001b[0m\u001b[1;33m\u001b[0m\u001b[1;33m\u001b[0m\u001b[0m\n\u001b[1;32m----> 2\u001b[1;33m     \u001b[0mmarker\u001b[0m \u001b[1;33m=\u001b[0m \u001b[0mMarker\u001b[0m\u001b[1;33m(\u001b[0m \u001b[0mlocation\u001b[0m \u001b[1;33m=\u001b[0m \u001b[0mplaces_coords\u001b[0m\u001b[1;33m[\u001b[0m\u001b[0mi\u001b[0m\u001b[1;33m]\u001b[0m \u001b[1;33m,\u001b[0m \u001b[0micon\u001b[0m \u001b[1;33m=\u001b[0m \u001b[0micon_list\u001b[0m\u001b[1;33m[\u001b[0m\u001b[0mint\u001b[0m\u001b[1;33m(\u001b[0m\u001b[0mcolors\u001b[0m\u001b[1;33m[\u001b[0m\u001b[0mi\u001b[0m\u001b[1;33m]\u001b[0m\u001b[1;33m)\u001b[0m\u001b[1;33m]\u001b[0m\u001b[1;33m)\u001b[0m\u001b[1;33m\u001b[0m\u001b[1;33m\u001b[0m\u001b[0m\n\u001b[0m\u001b[0;32m      3\u001b[0m     \u001b[0mm\u001b[0m\u001b[1;33m.\u001b[0m\u001b[0madd_layer\u001b[0m\u001b[1;33m(\u001b[0m\u001b[0mmarker\u001b[0m\u001b[1;33m)\u001b[0m\u001b[1;33m\u001b[0m\u001b[1;33m\u001b[0m\u001b[0m\n",
      "\u001b[1;31mIndexError\u001b[0m: list index out of range"
     ]
    }
   ],
   "source": [
    "for i in range(len(places_coords)):\n",
    "    marker = Marker( location = places_coords[i] , icon = icon_list[int(colors[i])])\n",
    "    m.add_layer(marker)"
   ]
  },
  {
   "cell_type": "code",
   "execution_count": 85,
   "metadata": {},
   "outputs": [
    {
     "data": {
      "text/plain": [
       "1"
      ]
     },
     "execution_count": 85,
     "metadata": {},
     "output_type": "execute_result"
    }
   ],
   "source": [
    "int(colors[0])"
   ]
  },
  {
   "cell_type": "code",
   "execution_count": 16,
   "metadata": {},
   "outputs": [
    {
     "data": {
      "text/html": [
       "<div style=\"width:100%;\"><div style=\"position:relative;width:100%;height:0;padding-bottom:60%;\"><iframe src=\"about:blank\" style=\"position:absolute;width:100%;height:100%;left:0;top:0;border:none !important;\" data-html=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 onload=\"this.contentDocument.open();this.contentDocument.write(atob(this.getAttribute('data-html')));this.contentDocument.close();\" allowfullscreen webkitallowfullscreen mozallowfullscreen></iframe></div></div>"
      ],
      "text/plain": [
       "<folium.folium.Map at 0x11e44439a00>"
      ]
     },
     "execution_count": 16,
     "metadata": {},
     "output_type": "execute_result"
    }
   ],
   "source": [
    "m"
   ]
  },
  {
   "cell_type": "code",
   "execution_count": 18,
   "metadata": {},
   "outputs": [],
   "source": [
    "m.save('save.html')"
   ]
  },
  {
   "cell_type": "code",
   "execution_count": null,
   "metadata": {},
   "outputs": [],
   "source": []
  },
  {
   "cell_type": "markdown",
   "metadata": {},
   "source": [
    "# Annotation"
   ]
  },
  {
   "cell_type": "code",
   "execution_count": 94,
   "metadata": {},
   "outputs": [],
   "source": [
    "from pigeon import annotate"
   ]
  },
  {
   "cell_type": "code",
   "execution_count": 110,
   "metadata": {},
   "outputs": [],
   "source": [
    "m = Map(center =(41.89 , 12.51) , zoom=15)\n",
    "\n",
    "for i in range(len(places_coords)):\n",
    "    marker = Marker(location = places_coords[i])\n",
    "    m.add_layer(marker)"
   ]
  },
  {
   "cell_type": "code",
   "execution_count": 130,
   "metadata": {},
   "outputs": [],
   "source": [
    "delta = .01\n",
    "bbox = [[places_coords[1][0]- delta , places_coords[1][1]-delta] , [places_coords[1][0]+delta , places_coords[1][1]+ delta]]"
   ]
  },
  {
   "cell_type": "code",
   "execution_count": 131,
   "metadata": {},
   "outputs": [],
   "source": [
    "m.fit_bounds(bbox)"
   ]
  },
  {
   "cell_type": "code",
   "execution_count": 132,
   "metadata": {},
   "outputs": [
    {
     "data": {
      "application/vnd.jupyter.widget-view+json": {
       "model_id": "a18324401dc146e0bf6bfa708a79da22",
       "version_major": 2,
       "version_minor": 0
      },
      "text/plain": [
       "Map(bottom=178768.0, center=[49.66407240384585, 14.256820678710938], controls=(ZoomControl(options=['position'…"
      ]
     },
     "metadata": {},
     "output_type": "display_data"
    }
   ],
   "source": [
    "m"
   ]
  },
  {
   "cell_type": "code",
   "execution_count": 135,
   "metadata": {},
   "outputs": [
    {
     "ename": "SyntaxError",
     "evalue": "positional argument follows keyword argument (<ipython-input-135-d14a1a6b5779>, line 5)",
     "output_type": "error",
     "traceback": [
      "\u001b[1;36m  File \u001b[1;32m\"<ipython-input-135-d14a1a6b5779>\"\u001b[1;36m, line \u001b[1;32m5\u001b[0m\n\u001b[1;33m    m.fit_bounds(bbox),\u001b[0m\n\u001b[1;37m    ^\u001b[0m\n\u001b[1;31mSyntaxError\u001b[0m\u001b[1;31m:\u001b[0m positional argument follows keyword argument\n"
     ]
    }
   ],
   "source": [
    "annotations = annotate(\n",
    "  list(range(100)),\n",
    "  options= list(colors_scheme.values()),\n",
    "  bbox = [[places_coords[x][0]- delta , places_coords[x][1]-delta] , [places_coords[x][0]+delta , places_coords[x][1]+ delta]],\n",
    "  m.fit_bounds(bbox),\n",
    "  display_fn=lambda x: display(m))"
   ]
  },
  {
   "cell_type": "code",
   "execution_count": 138,
   "metadata": {},
   "outputs": [],
   "source": [
    "def show_map(x) :\n",
    "    bbox = [[places_coords[x][0]- delta , places_coords[x][1]-delta] , [places_coords[x][0]+delta , places_coords[x][1]+ delta]]\n",
    "    m.fit_bounds(bbox)\n",
    "    return m\n",
    "    "
   ]
  },
  {
   "cell_type": "code",
   "execution_count": 140,
   "metadata": {},
   "outputs": [
    {
     "data": {
      "application/vnd.jupyter.widget-view+json": {
       "model_id": "8f31be86782e4525ae0936f791062899",
       "version_major": 2,
       "version_minor": 0
      },
      "text/plain": [
       "HTML(value='0 examples annotated, 101 examples left')"
      ]
     },
     "metadata": {},
     "output_type": "display_data"
    },
    {
     "data": {
      "application/vnd.jupyter.widget-view+json": {
       "model_id": "f983dd4303ed45df98a8b44a20c5d51c",
       "version_major": 2,
       "version_minor": 0
      },
      "text/plain": [
       "HBox(children=(Button(description='Climb', style=ButtonStyle()), Button(description='Visit', style=ButtonStyle…"
      ]
     },
     "metadata": {},
     "output_type": "display_data"
    },
    {
     "data": {
      "application/vnd.jupyter.widget-view+json": {
       "model_id": "438b3544470b402295ce64ee5cd4ddc8",
       "version_major": 2,
       "version_minor": 0
      },
      "text/plain": [
       "Output()"
      ]
     },
     "metadata": {},
     "output_type": "display_data"
    }
   ],
   "source": [
    "annotations = annotate(\n",
    "  list(range(100)),\n",
    "  options= list(colors_scheme.values()),\n",
    "  #bbox = [[places_coords[x][0]- delta , places_coords[x][1]-delta] , [places_coords[x][0]+delta , places_coords[x][1]+ delta]],\n",
    "  #m.fit_bounds(bbox),\n",
    "  display_fn=lambda x: display(show_map(x)))"
   ]
  },
  {
   "cell_type": "code",
   "execution_count": 142,
   "metadata": {},
   "outputs": [
    {
     "data": {
      "text/plain": [
       "[(0, 'Climb'),\n",
       " (1, 'Visit'),\n",
       " (2, 'Visit'),\n",
       " (3, 'Visit'),\n",
       " (4, 'Visit'),\n",
       " (5, 'Beach'),\n",
       " (6, 'Visit'),\n",
       " (7, 'Visit'),\n",
       " (8, 'Visit'),\n",
       " (9, 'Beach'),\n",
       " (10, 'Bike'),\n",
       " (11, 'Beach'),\n",
       " (12, 'Beach'),\n",
       " (13, 'Eat'),\n",
       " (14, 'Eat'),\n",
       " (15, 'Visit'),\n",
       " (16, 'Eat'),\n",
       " (17, 'Eat'),\n",
       " (18, 'Visit'),\n",
       " (19, 'Visit'),\n",
       " (20, 'Eat'),\n",
       " (21, 'Eat'),\n",
       " (22, 'Climb'),\n",
       " (23, 'Visit'),\n",
       " (24, 'Climb'),\n",
       " (25, 'Climb'),\n",
       " (26, 'Climb'),\n",
       " (27, 'Climb'),\n",
       " (28, 'Eat'),\n",
       " (29, 'Eat'),\n",
       " (30, 'Climb'),\n",
       " (31, 'Eat'),\n",
       " (32, 'Eat'),\n",
       " (33, 'Beach'),\n",
       " (34, 'Eat'),\n",
       " (35, 'Eat'),\n",
       " (36, 'Eat'),\n",
       " (37, 'Eat'),\n",
       " (38, 'Bike'),\n",
       " (39, 'Eat'),\n",
       " (40, 'Eat'),\n",
       " (41, 'Eat'),\n",
       " (42, 'Eat'),\n",
       " (43, 'Eat'),\n",
       " (44, 'Eat'),\n",
       " (45, 'Eat'),\n",
       " (46, 'Eat'),\n",
       " (47, 'Climb'),\n",
       " (48, 'Beach'),\n",
       " (49, 'Beach'),\n",
       " (50, 'Eat'),\n",
       " (51, 'Visit'),\n",
       " (52, 'Eat'),\n",
       " (53, 'Eat'),\n",
       " (54, 'Visit'),\n",
       " (55, 'Beach'),\n",
       " (56, 'Eat'),\n",
       " (57, 'Beach'),\n",
       " (58, 'Beach'),\n",
       " (59, 'Climb'),\n",
       " (60, 'Eat'),\n",
       " (61, 'Visit'),\n",
       " (62, 'Eat'),\n",
       " (63, 'Eat'),\n",
       " (64, 'Eat'),\n",
       " (65, 'Visit'),\n",
       " (66, 'Visit'),\n",
       " (67, 'Eat'),\n",
       " (68, 'Eat'),\n",
       " (69, 'Eat'),\n",
       " (70, 'Eat'),\n",
       " (71, 'Eat'),\n",
       " (72, 'Eat'),\n",
       " (73, 'Visit'),\n",
       " (74, 'Eat'),\n",
       " (75, 'Visit'),\n",
       " (76, 'Bike'),\n",
       " (77, 'Visit'),\n",
       " (78, 'Visit'),\n",
       " (79, 'Eat'),\n",
       " (80, 'Eat'),\n",
       " (81, 'Eat'),\n",
       " (82, 'Eat'),\n",
       " (83, 'Visit'),\n",
       " (84, 'Eat'),\n",
       " (85, 'Visit'),\n",
       " (86, 'Eat'),\n",
       " (87, 'Visit'),\n",
       " (88, 'Eat'),\n",
       " (89, 'Eat'),\n",
       " (90, 'Eat'),\n",
       " (91, 'Beach'),\n",
       " (92, 'Eat'),\n",
       " (93, 'Eat'),\n",
       " (94, 'Eat'),\n",
       " (95, 'Eat'),\n",
       " (96, 'Eat'),\n",
       " (97, 'Visit'),\n",
       " (98, 'Visit'),\n",
       " (99, 'Beach')]"
      ]
     },
     "execution_count": 142,
     "metadata": {},
     "output_type": "execute_result"
    }
   ],
   "source": [
    "annotations"
   ]
  },
  {
   "cell_type": "code",
   "execution_count": null,
   "metadata": {},
   "outputs": [],
   "source": []
  }
 ],
 "metadata": {
  "kernelspec": {
   "display_name": "Python 3",
   "language": "python",
   "name": "python3"
  },
  "language_info": {
   "codemirror_mode": {
    "name": "ipython",
    "version": 3
   },
   "file_extension": ".py",
   "mimetype": "text/x-python",
   "name": "python",
   "nbconvert_exporter": "python",
   "pygments_lexer": "ipython3",
   "version": "3.8.2"
  }
 },
 "nbformat": 4,
 "nbformat_minor": 4
}
