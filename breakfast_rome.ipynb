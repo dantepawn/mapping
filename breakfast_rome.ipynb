{
 "cells": [
  {
   "cell_type": "markdown",
   "metadata": {},
   "source": [
    "# Breakfast in Rome"
   ]
  },
  {
   "cell_type": "markdown",
   "metadata": {},
   "source": [
    "### According to listeners of www.radiorock.it , the best caffees in Rome."
   ]
  },
  {
   "cell_type": "code",
   "execution_count": 2,
   "metadata": {
    "collapsed": true,
    "jupyter": {
     "outputs_hidden": true
    }
   },
   "outputs": [],
   "source": [
    "import geopandas as gpd\n",
    "import  folium \n",
    "import numpy as np\n",
    "import matplotlib.pyplot as plt\n",
    "from geopy.geocoders import Nominatim\n",
    "import pickle"
   ]
  },
  {
   "cell_type": "code",
   "execution_count": 25,
   "metadata": {
    "collapsed": true,
    "jupyter": {
     "outputs_hidden": true
    }
   },
   "outputs": [],
   "source": []
  },
  {
   "cell_type": "markdown",
   "metadata": {},
   "source": [
    "### Dictionary with `{names : coordinates}`  are saved in a file *bar_di_roma.pkl*"
   ]
  },
  {
   "cell_type": "code",
   "execution_count": 3,
   "metadata": {
    "collapsed": true,
    "jupyter": {
     "outputs_hidden": true
    }
   },
   "outputs": [],
   "source": [
    "f = open('bar_di_roma.pkl','rb')\n",
    "bar_di_roma = pickle.load(f)"
   ]
  },
  {
   "cell_type": "code",
   "execution_count": 4,
   "metadata": {
    "collapsed": true,
    "jupyter": {
     "outputs_hidden": true
    }
   },
   "outputs": [],
   "source": [
    "ROMA = (41.8919300,12.5113300)"
   ]
  },
  {
   "cell_type": "markdown",
   "metadata": {},
   "source": [
    "### to retrive the coordinates for each caffee expand following cells ... skip if pickled file already exists"
   ]
  },
  {
   "cell_type": "code",
   "execution_count": 10,
   "metadata": {
    "collapsed": true,
    "jupyter": {
     "outputs_hidden": true,
     "source_hidden": true
    }
   },
   "outputs": [],
   "source": [
    "colazione = '''L’Antica Ciriola (Quadraro)\n",
    "Canova Tadolini, via del babuino 150 () \n",
    "Chiostro del Bramante, Arco della Pace ()\n",
    "Il Gianfornaio (Ponte Milvio, Parioli, Prati, Testaccio, Viale Libia, Eur)\n",
    "Via Gregorio VII()\n",
    "Biffi (Garbatella)\n",
    "Faro (Via Piave, 55)\n",
    "Regoli (Via dello Statuto, 60) Maritozzi\n",
    "Cristalli di Zucchero (Monteverde)\n",
    "Le Levain (Trastevere) francese\n",
    "Gruè (viale Regina Margherita, 95)\n",
    "Mizzica (Piazza Bologna)\n",
    "Babington ,Piazza di Spagna,()\n",
    "Abate (Prima Porta)\n",
    "Bakery house (Trieste, Ponte Milvio, Eur)\n",
    "Rosti (Pigneto)\n",
    "Vanni (Prati)\n",
    "Antonini Roma (Piazza Mazzini)\n",
    "Romoli (Viale Eritrea) krantz\n",
    "La buvette (Via Vittoria)\n",
    "Favole di pane, via Tiburtina,() cornetto con la crema\n",
    "Il dondolo (Città giardino)\n",
    "Hiromi Cake (Prati, Salario)\n",
    "Via del serafico 167(Trieste)\n",
    "Marigold ,Via Giovanni da Empoli 37, Roma,\n",
    "Hotel Eden (Via Ludovisi) brunch 90€ ma vista mozzafiato \n",
    "Bompiani (Via delle Sette Chiese) burro\n",
    "Roscioli (Campo de’ fiori) maritozzo anche in versione salata\n",
    "Tornatora Tuscolana (Quadraro) siciliano\n",
    "Il Tornatora (Prati fiscali)\n",
    "Vintro bar & bites (Viale Jonio)\n",
    "Maat Bakery & Bistrot ,Via Sestio Calvino 20/2 ()\n",
    "Belle Hélène, Via Giuseppe Garibaldi 12 ,Tarquinia())\n",
    "Pasticceria D'Antoni, Via Dino Penazzato (Collatina) ci ha lavorato un ascoltatore\n",
    "Corsetti (Pigneto) tramezzini\n",
    "Wani (Ostiense) vegan\n",
    "Faggiani (Prati)\n",
    "Caffè Tornatora Roma (Via Igea) danese\n",
    "Il Maritozzaro (Porta Portese)\n",
    "La gatta ghiotta (Manziana)\n",
    "Gran Caffè Dei Colli , Viale dei colli portuensi 518,(Monteverde)\n",
    "Krapfen Paglia (Ostia)\n",
    "Bar Casoria ,Viale Antonio Ciamarra 59(Romanina) aragostine caffè 0.70€\n",
    "Benaco (Trieste) aragostine nutella\n",
    "Casa Manfredi (Viale Aventino)\n",
    "Duranti ( Via val di cogne)\n",
    "Taki Matcha Caffè Via Marianna Dionigi 62\n",
    "Pasticceria Valentini (Conca d’oro) cornetto marmellata di visciole\n",
    "Pasticceria L’arte del dolce (Velletri) diplomatico\n",
    "Bar Tornatora (Via Oderisi da Gubbio)\n",
    "Bar Mazzaroni (Magliana)\n",
    "Pasticceria Cecere (Via Pian Due Torri, 20)\n",
    "Homebaked , Porta Cavalleggeri()) brunch\n",
    "Via di Monserrato 46(centro storico)\n",
    "Il Pangocciolaio (Ostiense)\n",
    "Le Carré Français (Via Vittoria Colonna)\n",
    "Charlotte (San Giovanni)\n",
    "Bar Pasticceria Pino (San Cesareo)\n",
    "Ruschena (Lungotevere)\n",
    "Castroni (Via Cola de Rienzo)\n",
    "Sant'Eustachio Il Caffè\n",
    "'Na Tazzulella 'e cafè, Viale dell'Aeronautica 57,(Eur)\n",
    "Bar degli Estensi()\n",
    "Gran Caffè Hawaii, Via di Tor Pignattara 43 ()'''"
   ]
  },
  {
   "cell_type": "code",
   "execution_count": 11,
   "metadata": {
    "collapsed": true,
    "jupyter": {
     "outputs_hidden": true,
     "source_hidden": true
    }
   },
   "outputs": [],
   "source": [
    "colazione = colazione.split(sep = '\\n')"
   ]
  },
  {
   "cell_type": "code",
   "execution_count": 6,
   "metadata": {
    "collapsed": true,
    "jupyter": {
     "outputs_hidden": true,
     "source_hidden": true
    }
   },
   "outputs": [],
   "source": [
    "geolocator = Nominatim(user_agent=\"breakfast_rome\")"
   ]
  },
  {
   "cell_type": "code",
   "execution_count": 10,
   "metadata": {
    "collapsed": true,
    "jupyter": {
     "outputs_hidden": true,
     "source_hidden": true
    }
   },
   "outputs": [],
   "source": [
    "bar_di_roma = {}\n",
    "for bar in colazione:\n",
    "    name = bar.split('(')[0]\n",
    "    res = geolocator.geocode( name +' Rome, Italy')\n",
    "    if res :\n",
    "        bar_di_roma[name]=res.point\n",
    "    else :\n",
    "        bar_di_roma[name]=[]"
   ]
  },
  {
   "cell_type": "code",
   "execution_count": 11,
   "metadata": {
    "collapsed": true,
    "jupyter": {
     "outputs_hidden": true,
     "source_hidden": true
    }
   },
   "outputs": [
    {
     "name": "stdout",
     "output_type": "stream",
     "text": [
      "L’Antica Ciriola \n",
      "Chiostro del Bramante, Arco della Pace \n",
      "Babington ,Piazza di Spagna,\n",
      "Favole di pane, via Tiburtina,\n",
      "Il dondolo \n",
      "Hiromi Cake \n",
      "Marigold ,Via Giovanni da Empoli 37, Roma,\n",
      "Maat Bakery & Bistrot ,Via Sestio Calvino 20/2 \n",
      "Belle Hélène, Via Giuseppe Garibaldi 12 ,Tarquinia\n",
      "Pasticceria D'Antoni, Via Dino Penazzato \n",
      "La gatta ghiotta \n",
      "Gran Caffè Dei Colli , Viale dei colli portuensi 518,\n",
      "Bar Casoria ,Viale Antonio Ciamarra 59\n",
      "Taki Matcha Caffè Via Marianna Dionigi 62\n",
      "Pasticceria Valentini \n",
      "Pasticceria L’arte del dolce \n",
      "Homebaked , Porta Cavalleggeri\n",
      "Bar Pasticceria Pino \n",
      "'Na Tazzulella 'e cafè, Viale dell'Aeronautica 57,\n",
      "Bar degli Estensi\n",
      "Gran Caffè Hawaii, Via di Tor Pignattara 43 \n"
     ]
    }
   ],
   "source": [
    "for k in bar_di_roma.keys():\n",
    "    if bar_di_roma[k] == []:\n",
    "        print(k)"
   ]
  },
  {
   "cell_type": "markdown",
   "metadata": {},
   "source": [
    "#### not found by geolocator , proceed manually"
   ]
  },
  {
   "cell_type": "code",
   "execution_count": 12,
   "metadata": {
    "collapsed": true,
    "jupyter": {
     "outputs_hidden": true,
     "source_hidden": true
    }
   },
   "outputs": [],
   "source": [
    "just_address = '''L’Antica Ciriola \n",
    "Chiostro del Bramante \n",
    "Via Gregorio VII\n",
    "piazza di Spagna 23\n",
    "Favole di pane, via Tiburtina,\n",
    "Il dondolo \n",
    "Hiromi Cake \n",
    "Via del serafico 167\n",
    "Via Giovanni da Empoli 37, Roma,\n",
    "Via Sestio Calvino 20/2 \n",
    " Via Giuseppe Garibaldi 12 ,Tarquinia\n",
    " Via Dino Penazzato \n",
    "La gatta ghiotta \n",
    " Viale dei colli portuensi 518,\n",
    "Viale Antonio Ciamarra 59\n",
    " Via Marianna Dionigi 62\n",
    "Pasticceria Valentini \n",
    "Pasticceria L’arte del dolce \n",
    "Porta Cavalleggeri\n",
    "Bar Perù ,Via di Monserrato 46\n",
    "Bar Pasticceria Pino \n",
    " Viale dell'Aeronautica 57,\n",
    "Bar degli Estensi\n",
    "Via di Tor Pignattara 43'''"
   ]
  },
  {
   "cell_type": "code",
   "execution_count": 13,
   "metadata": {
    "collapsed": true,
    "jupyter": {
     "outputs_hidden": true,
     "source_hidden": true
    }
   },
   "outputs": [],
   "source": [
    "new = {}\n",
    "for bar in just_address.split('\\n'):\n",
    "        \n",
    "    res = geolocator.geocode( bar +' Rome, Italy')\n",
    "    if res :\n",
    "        new[bar]=res.point\n",
    "    else :\n",
    "        new[bar]=[]"
   ]
  },
  {
   "cell_type": "code",
   "execution_count": 14,
   "metadata": {
    "collapsed": true,
    "jupyter": {
     "outputs_hidden": true,
     "source_hidden": true
    }
   },
   "outputs": [
    {
     "data": {
      "text/plain": [
       "{'L’Antica Ciriola ': [],\n",
       " 'Chiostro del Bramante ': Point(41.9001651, 12.4715564, 0.0),\n",
       " 'Via Gregorio VII': Point(41.8947333, 12.4296912, 0.0),\n",
       " 'piazza di Spagna 23': Point(41.9060613, 12.4823225, 0.0),\n",
       " 'Favole di pane, via Tiburtina,': [],\n",
       " 'Il dondolo ': [],\n",
       " 'Hiromi Cake ': [],\n",
       " 'Via del serafico 167': Point(41.830683, 12.4907714, 0.0),\n",
       " 'Via Giovanni da Empoli 37, Roma,': Point(41.873389, 12.4792214, 0.0),\n",
       " 'Via Sestio Calvino 20/2 ': Point(41.850929, 12.5617924, 0.0),\n",
       " ' Via Giuseppe Garibaldi 12 ,Tarquinia': [],\n",
       " ' Via Dino Penazzato ': Point(41.8977094, 12.5648754, 0.0),\n",
       " 'La gatta ghiotta ': [],\n",
       " ' Viale dei colli portuensi 518,': Point(41.8628357, 12.4434529, 0.0),\n",
       " 'Viale Antonio Ciamarra 59': Point(41.8490657, 12.5905588, 0.0),\n",
       " ' Via Marianna Dionigi 62': Point(41.9059556, 12.4707397, 0.0),\n",
       " 'Pasticceria Valentini ': [],\n",
       " 'Pasticceria L’arte del dolce ': [],\n",
       " 'Porta Cavalleggeri': Point(41.9003878, 12.4563027, 0.0),\n",
       " 'Bar Perù ,Via di Monserrato 46': [],\n",
       " 'Bar Pasticceria Pino ': [],\n",
       " \" Viale dell'Aeronautica 57,\": Point(41.8262663, 12.4780266, 0.0),\n",
       " 'Bar degli Estensi': [],\n",
       " 'Via di Tor Pignattara 43': Point(41.8751127, 12.5413445, 0.0)}"
      ]
     },
     "execution_count": 14,
     "metadata": {},
     "output_type": "execute_result"
    }
   ],
   "source": [
    "new"
   ]
  },
  {
   "cell_type": "code",
   "execution_count": 15,
   "metadata": {
    "collapsed": true,
    "jupyter": {
     "outputs_hidden": true,
     "source_hidden": true
    }
   },
   "outputs": [],
   "source": [
    "bar_di_roma.update(new)"
   ]
  },
  {
   "cell_type": "code",
   "execution_count": 7,
   "metadata": {
    "collapsed": true,
    "jupyter": {
     "outputs_hidden": true,
     "source_hidden": true
    }
   },
   "outputs": [
    {
     "data": {
      "text/plain": [
       "{'L’Antica Ciriola ': [],\n",
       " 'Canova Tadolini, via del babuino 150 ': Point(41.9077935, 12.4795384, 0.0),\n",
       " 'Chiostro del Bramante, Arco della Pace ': Point(41.9001651, 12.4715564, 0.0),\n",
       " 'Il Gianfornaio ': Point(41.9289961, 12.4857767, 0.0),\n",
       " 'Via Gregorio VII': Point(41.8947333, 12.4296912, 0.0),\n",
       " 'Biffi ': Point(41.8667325, 12.490325, 0.0),\n",
       " 'Faro ': Point(41.9102507, 12.4983822, 0.0),\n",
       " 'Regoli ': Point(41.8948154, 12.5009269, 0.0),\n",
       " 'Cristalli di Zucchero ': Point(41.8693631, 12.446614, 0.0),\n",
       " 'Le Levain ': Point(41.8871605, 12.4686423, 0.0),\n",
       " 'Gruè ': Point(41.7958778, 12.2419059, 0.0),\n",
       " 'Mizzica ': Point(41.9123654, 12.5179137, 0.0),\n",
       " 'Babington ,Piazza di Spagna,': [],\n",
       " 'Abate ': Point(41.8970926, 12.50049450209608, 0.0),\n",
       " 'Bakery house ': Point(41.9234823, 12.5132586, 0.0),\n",
       " 'Rosti ': Point(41.8888294, 12.529261668871825, 0.0),\n",
       " 'Vanni ': Point(41.917378, 12.4645982, 0.0),\n",
       " 'Antonini Roma ': Point(41.89209715, 12.486649054232455, 0.0),\n",
       " 'Romoli ': Point(41.9286765, 12.5162194, 0.0),\n",
       " 'La buvette ': Point(41.9070552, 12.4800685, 0.0),\n",
       " 'Favole di pane, via Tiburtina,': [],\n",
       " 'Il dondolo ': [],\n",
       " 'Hiromi Cake ': [],\n",
       " 'Via del serafico 167': Point(41.830683, 12.4907714, 0.0),\n",
       " 'Marigold ,Via Giovanni da Empoli 37, Roma,': Point(41.873389, 12.4792214, 0.0),\n",
       " 'Hotel Eden ': Point(41.9065412, 12.4863085, 0.0),\n",
       " 'Bompiani ': Point(41.8591453, 12.5019047, 0.0),\n",
       " 'Roscioli ': Point(41.8955136, 12.5070146, 0.0),\n",
       " 'Tornatora Tuscolana ': Point(41.863733, 12.5476596, 0.0),\n",
       " 'Il Tornatora ': Point(41.8538357, 12.4806095, 0.0),\n",
       " 'Vintro bar & bites ': Point(41.9460046, 12.5299783, 0.0),\n",
       " 'Maat Bakery & Bistrot ,Via Sestio Calvino 20/2 ': [],\n",
       " 'Belle Hélène, Via Giuseppe Garibaldi 12 ,Tarquinia': [],\n",
       " \"Pasticceria D'Antoni, Via Dino Penazzato \": [],\n",
       " 'Corsetti ': Point(41.8639294, 12.4656124, 0.0),\n",
       " 'Wani ': Point(41.8520997, 12.4785552, 0.0),\n",
       " 'Faggiani ': Point(41.9142107, 12.4642335, 0.0),\n",
       " 'Caffè Tornatora Roma ': Point(41.934323, 12.4414141, 0.0),\n",
       " 'Il Maritozzaro ': Point(41.873237, 12.4672739, 0.0),\n",
       " 'La gatta ghiotta ': [],\n",
       " 'Gran Caffè Dei Colli , Viale dei colli portuensi 518,': [],\n",
       " 'Krapfen Paglia ': Point(41.730119, 12.2785272, 0.0),\n",
       " 'Bar Casoria ,Viale Antonio Ciamarra 59': [],\n",
       " 'Benaco ': Point(41.9238663, 12.5060761, 0.0),\n",
       " 'Casa Manfredi ': Point(41.9617952, 12.4461446, 0.0),\n",
       " 'Duranti ': Point(41.7768612, 12.4366259, 0.0),\n",
       " 'Taki Matcha Caffè Via Marianna Dionigi 62': [],\n",
       " 'Pasticceria Valentini ': [],\n",
       " 'Pasticceria L’arte del dolce ': [],\n",
       " 'Bar Tornatora ': Point(41.9148176, 12.4145682, 0.0),\n",
       " 'Bar Mazzaroni ': Point(41.8491827, 12.4587089, 0.0),\n",
       " 'Pasticceria Cecere ': Point(41.8819368, 12.4692321, 0.0),\n",
       " 'Homebaked , Porta Cavalleggeri': [],\n",
       " 'Via di Monserrato 46': Point(41.8964759, 12.4690343, 0.0),\n",
       " 'Il Pangocciolaio ': Point(41.8718894, 12.4793905, 0.0),\n",
       " 'Le Carré Français ': Point(41.9050545, 12.4718403, 0.0),\n",
       " 'Charlotte ': Point(41.833557299999995, 12.888043532607345, 0.0),\n",
       " 'Bar Pasticceria Pino ': [],\n",
       " 'Ruschena ': Point(41.9051441, 12.473242, 0.0),\n",
       " 'Castroni ': Point(41.9037546, 12.4796897, 0.0),\n",
       " \"Sant'Eustachio Il Caffè\": Point(41.898244, 12.4753209, 0.0),\n",
       " \"'Na Tazzulella 'e cafè, Viale dell'Aeronautica 57,\": [],\n",
       " 'Bar degli Estensi': [],\n",
       " 'Gran Caffè Hawaii, Via di Tor Pignattara 43 ': [],\n",
       " 'Chiostro del Bramante ': Point(41.9001651, 12.4715564, 0.0),\n",
       " 'piazza di Spagna 23': Point(41.9060613, 12.4823225, 0.0),\n",
       " 'Via Giovanni da Empoli 37, Roma,': Point(41.873389, 12.4792214, 0.0),\n",
       " 'Via Sestio Calvino 20/2 ': Point(41.850929, 12.5617924, 0.0),\n",
       " ' Via Giuseppe Garibaldi 12 ,Tarquinia': [],\n",
       " ' Via Dino Penazzato ': Point(41.8977094, 12.5648754, 0.0),\n",
       " ' Viale dei colli portuensi 518,': Point(41.8628357, 12.4434529, 0.0),\n",
       " 'Viale Antonio Ciamarra 59': Point(41.8490657, 12.5905588, 0.0),\n",
       " ' Via Marianna Dionigi 62': Point(41.9059556, 12.4707397, 0.0),\n",
       " 'Porta Cavalleggeri': Point(41.9003878, 12.4563027, 0.0),\n",
       " 'Bar Perù ,Via di Monserrato 46': [],\n",
       " \" Viale dell'Aeronautica 57,\": Point(41.8262663, 12.4780266, 0.0),\n",
       " 'Via di Tor Pignattara 43': Point(41.8751127, 12.5413445, 0.0)}"
      ]
     },
     "execution_count": 7,
     "metadata": {},
     "output_type": "execute_result"
    }
   ],
   "source": [
    "bar_di_roma"
   ]
  },
  {
   "cell_type": "code",
   "execution_count": 18,
   "metadata": {
    "collapsed": true,
    "jupyter": {
     "outputs_hidden": true,
     "source_hidden": true
    }
   },
   "outputs": [],
   "source": [
    "address = geolocator.geocode('chiostro del bramante , roma')"
   ]
  },
  {
   "cell_type": "code",
   "execution_count": 20,
   "metadata": {
    "collapsed": true,
    "jupyter": {
     "outputs_hidden": true,
     "source_hidden": true
    }
   },
   "outputs": [],
   "source": [
    "bar_di_roma['Chiostro del Bramante, Arco della Pace '] = address.point"
   ]
  },
  {
   "cell_type": "code",
   "execution_count": 23,
   "metadata": {
    "collapsed": true,
    "jupyter": {
     "outputs_hidden": true,
     "source_hidden": true
    }
   },
   "outputs": [],
   "source": [
    "address = geolocator.geocode('Via Giovanni da Empoli 37, Roma')\n",
    "bar_di_roma['Marigold ,Via Giovanni da Empoli 37, Roma,'] = address.point"
   ]
  },
  {
   "cell_type": "code",
   "execution_count": 24,
   "metadata": {
    "collapsed": true,
    "jupyter": {
     "outputs_hidden": true,
     "source_hidden": true
    }
   },
   "outputs": [],
   "source": [
    "address = geolocator.geocode('Via Giovanni da Empoli 37, Roma')\n",
    "bar_di_roma['Marigold ,Via Giovanni da Empoli 37, Roma,'] = address.point"
   ]
  },
  {
   "cell_type": "markdown",
   "metadata": {},
   "source": [
    "### save with pickle"
   ]
  },
  {
   "cell_type": "code",
   "execution_count": 29,
   "metadata": {},
   "outputs": [],
   "source": [
    "f = open('bar_di_roma.pkl','wb')\n",
    "pickle.dump(bar_di_roma,f)\n",
    "f.close()"
   ]
  },
  {
   "cell_type": "markdown",
   "metadata": {},
   "source": [
    "# Place caffees on the map"
   ]
  },
  {
   "cell_type": "code",
   "execution_count": 8,
   "metadata": {},
   "outputs": [],
   "source": [
    "m = folium.Map(location=ROMA, zoom_start=12)\n",
    "\n",
    "for b in bar_di_roma.keys():\n",
    "    if bar_di_roma[b]:\n",
    "        folium.Marker((bar_di_roma[b].latitude,bar_di_roma[b].longitude),\n",
    "                      icon = folium.Icon(color = 'red' , icon = 'star'),\n",
    "                      popup = b).add_to(m)"
   ]
  },
  {
   "cell_type": "code",
   "execution_count": 9,
   "metadata": {},
   "outputs": [
    {
     "data": {
      "text/html": [
       "<div style=\"width:100%;\"><div style=\"position:relative;width:100%;height:0;padding-bottom:60%;\"><iframe src=\"about:blank\" style=\"position:absolute;width:100%;height:100%;left:0;top:0;border:none !important;\" data-html=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 onload=\"this.contentDocument.open();this.contentDocument.write(atob(this.getAttribute('data-html')));this.contentDocument.close();\" allowfullscreen webkitallowfullscreen mozallowfullscreen></iframe></div></div>"
      ],
      "text/plain": [
       "<folium.folium.Map at 0x2a02152cd30>"
      ]
     },
     "execution_count": 9,
     "metadata": {},
     "output_type": "execute_result"
    }
   ],
   "source": [
    "m"
   ]
  },
  {
   "cell_type": "code",
   "execution_count": 27,
   "metadata": {},
   "outputs": [],
   "source": [
    "m.save('colazione a roma.html')"
   ]
  }
 ],
 "metadata": {
  "kernelspec": {
   "display_name": "Python 3",
   "language": "python",
   "name": "python3"
  },
  "language_info": {
   "codemirror_mode": {
    "name": "ipython",
    "version": 3
   },
   "file_extension": ".py",
   "mimetype": "text/x-python",
   "name": "python",
   "nbconvert_exporter": "python",
   "pygments_lexer": "ipython3",
   "version": "3.8.2"
  }
 },
 "nbformat": 4,
 "nbformat_minor": 4
}
